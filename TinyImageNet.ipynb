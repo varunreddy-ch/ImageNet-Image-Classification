{
  "nbformat": 4,
  "nbformat_minor": 0,
  "metadata": {
    "accelerator": "GPU",
    "colab": {
      "name": "S20190010027.ipynb",
      "provenance": [],
      "collapsed_sections": [
        "Yfv7YNYS_k0J",
        "3F_U2tUq1FmI",
        "bC1Ybx1_HXNs",
        "hpLfY-Xa83a8",
        "nJ0_QqLS_V2P"
      ]
    },
    "kernelspec": {
      "display_name": "Python 3",
      "name": "python3"
    },
    "language_info": {
      "name": "python"
    }
  },
  "cells": [
    {
      "cell_type": "markdown",
      "source": [
        "# Image Classification using CNN for MircoImageNet dataset"
      ],
      "metadata": {
        "id": "zIr8Uu0AP_UX"
      }
    },
    {
      "cell_type": "markdown",
      "source": [
        "### Getting dataset from stanford website and importing required libraries"
      ],
      "metadata": {
        "id": "V_--45aSNW7p"
      }
    },
    {
      "cell_type": "code",
      "metadata": {
        "id": "rEW8Btm_lmCO"
      },
      "source": [
        "# Downloading and unzipping the tiny imagenet-200 dataset\n",
        "\n",
        "!wget http://cs231n.stanford.edu/tiny-imagenet-200.zip &> /dev/null\n",
        "!unzip tiny-imagenet-200.zip &> /dev/null"
      ],
      "execution_count": null,
      "outputs": []
    },
    {
      "cell_type": "code",
      "metadata": {
        "id": "t8nY1cZt2Rtv"
      },
      "source": [
        "# Importing requires libraries\n",
        "import os\n",
        "import cv2\n",
        "import keras\n",
        "import numpy as np\n",
        "import pandas as pd\n",
        "import matplotlib.image as mpimg\n",
        "import matplotlib.pyplot as plt\n",
        "import seaborn as sns\n",
        "import tensorflow as tf\n",
        "from keras import losses\n",
        "from keras.preprocessing.image import ImageDataGenerator,image, image_dataset_from_directory\n",
        "from keras.models import Sequential\n",
        "from keras.layers import Dense, Dropout, Activation, Flatten\n",
        "from keras.layers import Conv2D, MaxPool2D\n",
        "from keras.callbacks import ModelCheckpoint\n",
        "import pickle"
      ],
      "execution_count": null,
      "outputs": []
    },
    {
      "cell_type": "code",
      "metadata": {
        "id": "mhOTueVjAB7p"
      },
      "source": [
        "# Copying dataset to google drive for safety\n",
        "# !cp \"/content/tiny-imagenet-200.zip\" -r \"/content/gdrive/MyDrive/dlproject\""
      ],
      "execution_count": null,
      "outputs": []
    },
    {
      "cell_type": "markdown",
      "metadata": {
        "id": "mXV-9VajAbxo"
      },
      "source": [
        "### As the dataset is too large we need to use data generator for training tha model.\n",
        "### For training the data using Data generator, Images must  be formatted in the below format:\n",
        "![Screen-Shot-of-Image-Dataset-Directory-and-File-Structure-228x300.png](data:image/png;base64,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)\n"
      ]
    },
    {
      "cell_type": "code",
      "metadata": {
        "id": "ul14BXfhlqUc"
      },
      "source": [
        "import os\n",
        "# Define main data directory\n",
        "DATA_DIR = 'tiny-imagenet-200' # Original images come in shapes of [64,64,3]\n",
        "\n",
        "# Define training and validation data paths\n",
        "TRAIN_DIR = os.path.join(DATA_DIR, 'train') \n",
        "VALID_DIR = os.path.join(DATA_DIR, 'val')\n",
        "TEST_DIR = os.path.join(DATA_DIR, 'test')"
      ],
      "execution_count": null,
      "outputs": []
    },
    {
      "cell_type": "code",
      "metadata": {
        "colab": {
          "base_uri": "https://localhost:8080/"
        },
        "id": "ylYp0al9mT1q",
        "outputId": "db57bd78-dc01-4bfc-f862-bebf94bee31b"
      },
      "source": [
        "# Creating dictionary object containing folder names and corresponding labels\n",
        "\n",
        "file = open(DATA_DIR + \"/words.txt\")\n",
        "FOLDER_LABEL_DICT = {}\n",
        "count = 0\n",
        "for row in file:\n",
        "  folder_name = row[0:9]\n",
        "  label = row[10:-1].split(\",\")[0]\n",
        "  label = label.replace(\" \", \"_\", -1)\n",
        "  # print(folder_name , \" \", label)\n",
        "  count+=1\n",
        "  FOLDER_LABEL_DICT[folder_name] = label\n",
        "file.close()\n",
        "\n",
        "print(count)\n",
        "print(len(FOLDER_LABEL_DICT))\n",
        "# print(FOLDER_LABEL_DICT)"
      ],
      "execution_count": null,
      "outputs": [
        {
          "output_type": "stream",
          "name": "stdout",
          "text": [
            "82115\n",
            "82115\n"
          ]
        }
      ]
    },
    {
      "cell_type": "code",
      "metadata": {
        "id": "8ljw3y872N3h"
      },
      "source": [
        "# renaming all train data folder names to corresponding labels\n",
        "\n",
        "# shutil for deleting non empty folders\n",
        "import shutil\n",
        "\n",
        "for folder_name in os.listdir(TRAIN_DIR):\n",
        "  if os.path.isdir(TRAIN_DIR + \"/\" + folder_name + \"/images\"):\n",
        "    label = FOLDER_LABEL_DICT[folder_name]\n",
        "    os.rename(TRAIN_DIR + \"/\" + folder_name + \"/images\",\n",
        "              TRAIN_DIR + \"/\" + label)\n",
        "    shutil.rmtree(TRAIN_DIR + \"/\" + folder_name)"
      ],
      "execution_count": null,
      "outputs": []
    },
    {
      "cell_type": "code",
      "metadata": {
        "id": "JNYQKa3b2P6h"
      },
      "source": [
        "# Rearranging all the validation set images to corresponding format\n",
        "\n",
        "file = open(VALID_DIR + \"/val_annotations.txt\")\n",
        "for line in file:\n",
        "  line = line[:-1].split(\"\\t\")\n",
        "  img, label = line[0], line[1]\n",
        "  label = FOLDER_LABEL_DICT[label]\n",
        "  # print(label)\n",
        "  os.makedirs(VALID_DIR + \"/\" + label, exist_ok=True)\n",
        "  os.rename(VALID_DIR + \"/images/\" + img,\n",
        "            VALID_DIR + \"/\" + label + \"/\" + img)\n",
        "shutil.rmtree(VALID_DIR + \"/images\")\n",
        "file.close()"
      ],
      "execution_count": null,
      "outputs": []
    },
    {
      "cell_type": "code",
      "metadata": {
        "colab": {
          "base_uri": "https://localhost:8080/"
        },
        "id": "u3zNsLnc2VPm",
        "outputId": "17dc31ff-bca4-44fb-ac62-fba71053c7a8"
      },
      "source": [
        "# Data Generator\n",
        "\n",
        "datagen = ImageDataGenerator(rotation_range=20,\n",
        "                             width_shift_range=0.1,\n",
        "                             height_shift_range=0.1,\n",
        "                             rescale=1./255, \n",
        "                             zoom_range=0.2,\n",
        "                             horizontal_flip = True,\n",
        "                             vertical_flip = False)\n",
        "\n",
        "train_it = datagen.flow_from_directory(directory = TRAIN_DIR,\n",
        "                                        # classes='inferred',\n",
        "                                        class_mode='categorical',\n",
        "                                        color_mode=\"rgb\",\n",
        "                                        batch_size=64,\n",
        "                                        target_size=(64, 64),\n",
        "                                        shuffle=True,\n",
        "                                        seed=101)\n",
        "\n",
        "label_map = (train_it.class_indices)\n",
        "labels = list(label_map.keys())\n",
        "\n",
        "validation_it = datagen.flow_from_directory(directory = VALID_DIR,\n",
        "                                        # classes='inferred',\n",
        "                                        class_mode='categorical',\n",
        "                                        color_mode=\"rgb\",\n",
        "                                        batch_size=64,\n",
        "                                        target_size=(64, 64),\n",
        "                                        shuffle=True,\n",
        "                                        seed=101)"
      ],
      "execution_count": null,
      "outputs": [
        {
          "output_type": "stream",
          "name": "stdout",
          "text": [
            "Found 100000 images belonging to 200 classes.\n",
            "Found 10000 images belonging to 200 classes.\n"
          ]
        }
      ]
    },
    {
      "cell_type": "code",
      "metadata": {
        "colab": {
          "base_uri": "https://localhost:8080/"
        },
        "id": "COIl6xY12dMM",
        "outputId": "ffcbe051-6731-475f-8830-297da3b1987f"
      },
      "source": [
        "# saving model to Google Drive for every epoch (Backup)\n",
        "\n",
        "from google.colab import drive\n",
        "drive._mount('/content/gdrive')"
      ],
      "execution_count": null,
      "outputs": [
        {
          "output_type": "stream",
          "name": "stdout",
          "text": [
            "Mounted at /content/gdrive\n"
          ]
        }
      ]
    },
    {
      "cell_type": "markdown",
      "source": [
        "### Building a CNN model similar to VGG-16 architecture"
      ],
      "metadata": {
        "id": "g8mGQDpER4j6"
      }
    },
    {
      "cell_type": "code",
      "metadata": {
        "id": "q6Bf1lkl3KyC"
      },
      "source": [
        "# Building model similar to VGG-16 architecture\n",
        "def create_model():\n",
        "  model = Sequential()\n",
        "\n",
        "  model.add(Conv2D(input_shape=(64,64,3),filters=64,kernel_size=(3,3),padding=\"same\", activation=\"relu\"))\n",
        "  model.add(Conv2D(filters=64,kernel_size=(3,3),padding=\"same\", activation=\"relu\"))\n",
        "  model.add(MaxPool2D(pool_size=(2,2),strides=(2,2)))\n",
        "\n",
        "  model.add(Conv2D(filters=128, kernel_size=(3,3), padding=\"same\", activation=\"relu\"))\n",
        "  model.add(Conv2D(filters=128, kernel_size=(3,3), padding=\"same\", activation=\"relu\"))\n",
        "  model.add(MaxPool2D(pool_size=(2,2),strides=(2,2)))\n",
        "\n",
        "  model.add(Conv2D(filters=256, kernel_size=(3,3), padding=\"same\", activation=\"relu\"))\n",
        "  model.add(Conv2D(filters=256, kernel_size=(3,3), padding=\"same\", activation=\"relu\"))\n",
        "  model.add(Conv2D(filters=256, kernel_size=(3,3), padding=\"same\", activation=\"relu\"))\n",
        "  model.add(MaxPool2D(pool_size=(2,2),strides=(2,2)))\n",
        "\n",
        "  model.add(Conv2D(filters=512, kernel_size=(3,3), padding=\"same\", activation=\"relu\"))\n",
        "  model.add(Conv2D(filters=512, kernel_size=(3,3), padding=\"same\", activation=\"relu\"))\n",
        "  model.add(Conv2D(filters=512, kernel_size=(3,3), padding=\"same\", activation=\"relu\"))\n",
        "  model.add(MaxPool2D(pool_size=(2,2),strides=(2,2)))\n",
        "\n",
        "  # model.add(Conv2D(filters=512, kernel_size=(3,3), padding=\"same\", activation=\"relu\"))\n",
        "  # model.add(Conv2D(filters=512, kernel_size=(3,3), padding=\"same\", activation=\"relu\"))\n",
        "  # model.add(Conv2D(filters=512, kernel_size=(3,3), padding=\"same\", activation=\"relu\"))\n",
        "  # model.add(MaxPool2D(pool_size=(2,2),strides=(2,2)))\n",
        "\n",
        "  model.add(Flatten())\n",
        "  model.add(Dense(units=4096,activation=\"relu\"))\n",
        "  model.add(Dense(units=4096,activation=\"relu\"))\n",
        "  model.add(Dense(units=200, activation=\"softmax\"))\n",
        "  return model"
      ],
      "execution_count": null,
      "outputs": []
    },
    {
      "cell_type": "code",
      "metadata": {
        "colab": {
          "base_uri": "https://localhost:8080/"
        },
        "id": "UWbmwpYg3cgO",
        "outputId": "c53ea288-4689-4e32-9b1a-878b7330b98d"
      },
      "source": [
        "model.summary()"
      ],
      "execution_count": null,
      "outputs": [
        {
          "name": "stdout",
          "output_type": "stream",
          "text": [
            "Model: \"sequential_3\"\n",
            "_________________________________________________________________\n",
            " Layer (type)                Output Shape              Param #   \n",
            "=================================================================\n",
            " conv2d_28 (Conv2D)          (None, 64, 64, 64)        1792      \n",
            "                                                                 \n",
            " conv2d_29 (Conv2D)          (None, 64, 64, 64)        36928     \n",
            "                                                                 \n",
            " max_pooling2d_10 (MaxPoolin  (None, 32, 32, 64)       0         \n",
            " g2D)                                                            \n",
            "                                                                 \n",
            " conv2d_30 (Conv2D)          (None, 32, 32, 128)       73856     \n",
            "                                                                 \n",
            " conv2d_31 (Conv2D)          (None, 32, 32, 128)       147584    \n",
            "                                                                 \n",
            " max_pooling2d_11 (MaxPoolin  (None, 16, 16, 128)      0         \n",
            " g2D)                                                            \n",
            "                                                                 \n",
            " conv2d_32 (Conv2D)          (None, 16, 16, 256)       295168    \n",
            "                                                                 \n",
            " conv2d_33 (Conv2D)          (None, 16, 16, 256)       590080    \n",
            "                                                                 \n",
            " conv2d_34 (Conv2D)          (None, 16, 16, 256)       590080    \n",
            "                                                                 \n",
            " max_pooling2d_12 (MaxPoolin  (None, 8, 8, 256)        0         \n",
            " g2D)                                                            \n",
            "                                                                 \n",
            " conv2d_35 (Conv2D)          (None, 8, 8, 512)         1180160   \n",
            "                                                                 \n",
            " conv2d_36 (Conv2D)          (None, 8, 8, 512)         2359808   \n",
            "                                                                 \n",
            " conv2d_37 (Conv2D)          (None, 8, 8, 512)         2359808   \n",
            "                                                                 \n",
            " max_pooling2d_13 (MaxPoolin  (None, 4, 4, 512)        0         \n",
            " g2D)                                                            \n",
            "                                                                 \n",
            " flatten (Flatten)           (None, 8192)              0         \n",
            "                                                                 \n",
            " dense (Dense)               (None, 4096)              33558528  \n",
            "                                                                 \n",
            " dense_1 (Dense)             (None, 4096)              16781312  \n",
            "                                                                 \n",
            " dense_2 (Dense)             (None, 2)                 8194      \n",
            "                                                                 \n",
            "=================================================================\n",
            "Total params: 57,983,298\n",
            "Trainable params: 57,983,298\n",
            "Non-trainable params: 0\n",
            "_________________________________________________________________\n"
          ]
        }
      ]
    },
    {
      "cell_type": "code",
      "metadata": {
        "id": "BIZ1waIC3yuF"
      },
      "source": [
        "# Example for compiling the sequential model\n",
        "\n",
        "opt = tf.keras.optimizers.Adam(learning_rate=0.00001)\n",
        "\n",
        "model.compile(loss = 'categorical_crossentropy',\n",
        "              metrics=['accuracy'],\n",
        "              optimizer= opt)"
      ],
      "execution_count": null,
      "outputs": []
    },
    {
      "cell_type": "markdown",
      "source": [
        "#### Checkpoints"
      ],
      "metadata": {
        "id": "3GjCHQuCTDcl"
      }
    },
    {
      "cell_type": "code",
      "metadata": {
        "colab": {
          "base_uri": "https://localhost:8080/"
        },
        "id": "A-Mn3qNa5B2b",
        "outputId": "4898072b-1954-4b45-8d5b-403e87b7ee77"
      },
      "source": [
        "# Example for callbacks for saving our trained model period\n",
        "from keras.callbacks import ModelCheckpoint\n",
        "\n",
        "checkpoint = ModelCheckpoint(\"vgg16_.h5\",\n",
        "                             monitor='val_accuracy',\n",
        "                             verbose=1,\n",
        "                             save_best_only=True,\n",
        "                             save_weights_only=False,\n",
        "                             mode='auto',\n",
        "                             period=1)"
      ],
      "execution_count": null,
      "outputs": [
        {
          "name": "stdout",
          "output_type": "stream",
          "text": [
            "WARNING:tensorflow:`period` argument is deprecated. Please use `save_freq` to specify the frequency in number of batches seen.\n"
          ]
        }
      ]
    },
    {
      "cell_type": "markdown",
      "metadata": {
        "id": "Yfv7YNYS_k0J"
      },
      "source": [
        "### Finding optimal learning rate\n",
        "#### Here we training our model for 6 different learning rates i.e \n",
        "#### [0.01, 0.001, 0.0001, 0.00001, 0.000001, 0.0000001]"
      ]
    },
    {
      "cell_type": "code",
      "metadata": {
        "colab": {
          "base_uri": "https://localhost:8080/"
        },
        "id": "MEeH3-2i_nbP",
        "outputId": "170cc5a2-3475-486a-8908-348fd4354285"
      },
      "source": [
        "# lr = 0.01\n",
        "model = create_model()\n",
        "model.compile(loss = 'categorical_crossentropy',\n",
        "              metrics=['accuracy'],\n",
        "              optimizer= Adam(learning_rate= 0.01))\n",
        "\n",
        "\n",
        "checkpoint = ModelCheckpoint(\"/content/gdrive/MyDrive/dlproject/learningrate/vgg16_01.h5\",\n",
        "                             monitor='val_accuracy',\n",
        "                             verbose=1,\n",
        "                             save_best_only=True,\n",
        "                             save_weights_only=False,\n",
        "                             mode='auto',\n",
        "                             period=1)\n",
        "\n",
        "lr01 = model.fit(train_it,batch_size=64,\n",
        "                validation_data= validation_it,\n",
        "                epochs=10,\n",
        "                verbose=1,\n",
        "                 callbacks=[checkpoint])\n",
        "\n",
        "# Open a file and use dump()\n",
        "with open('/content/gdrive/MyDrive/dlproject/learningrate/history01.pkl', 'wb') as file:\n",
        "      \n",
        "    # A new file will be created\n",
        "    pickle.dump(lr01, file)"
      ],
      "execution_count": null,
      "outputs": [
        {
          "name": "stdout",
          "output_type": "stream",
          "text": [
            "WARNING:tensorflow:`period` argument is deprecated. Please use `save_freq` to specify the frequency in number of batches seen.\n",
            "Epoch 1/10\n",
            "1563/1563 [==============================] - ETA: 0s - loss: 17580.8359 - accuracy: 0.0050\n",
            "Epoch 00001: val_accuracy improved from -inf to 0.00500, saving model to /content/gdrive/MyDrive/dlproject/learningrate/vgg16_01.h5\n",
            "1563/1563 [==============================] - 289s 184ms/step - loss: 17580.8359 - accuracy: 0.0050 - val_loss: 5.3016 - val_accuracy: 0.0050\n",
            "Epoch 2/10\n",
            "1563/1563 [==============================] - ETA: 0s - loss: 5.3036 - accuracy: 0.0047\n",
            "Epoch 00002: val_accuracy did not improve from 0.00500\n",
            "1563/1563 [==============================] - 288s 184ms/step - loss: 5.3036 - accuracy: 0.0047 - val_loss: 5.3014 - val_accuracy: 0.0050\n",
            "Epoch 3/10\n",
            "1563/1563 [==============================] - ETA: 0s - loss: 5.3033 - accuracy: 0.0046\n",
            "Epoch 00003: val_accuracy did not improve from 0.00500\n",
            "1563/1563 [==============================] - 284s 182ms/step - loss: 5.3033 - accuracy: 0.0046 - val_loss: 5.3013 - val_accuracy: 0.0050\n",
            "Epoch 4/10\n",
            "1563/1563 [==============================] - ETA: 0s - loss: 5.3037 - accuracy: 0.0046\n",
            "Epoch 00004: val_accuracy did not improve from 0.00500\n",
            "1563/1563 [==============================] - 284s 182ms/step - loss: 5.3037 - accuracy: 0.0046 - val_loss: 5.3018 - val_accuracy: 0.0050\n",
            "Epoch 5/10\n",
            "1563/1563 [==============================] - ETA: 0s - loss: 5.3037 - accuracy: 0.0046\n",
            "Epoch 00005: val_accuracy did not improve from 0.00500\n",
            "1563/1563 [==============================] - 285s 182ms/step - loss: 5.3037 - accuracy: 0.0046 - val_loss: 5.3015 - val_accuracy: 0.0050\n",
            "Epoch 6/10\n",
            "1563/1563 [==============================] - ETA: 0s - loss: 5.3037 - accuracy: 0.0046\n",
            "Epoch 00006: val_accuracy did not improve from 0.00500\n",
            "1563/1563 [==============================] - 283s 181ms/step - loss: 5.3037 - accuracy: 0.0046 - val_loss: 5.3014 - val_accuracy: 0.0050\n",
            "Epoch 7/10\n",
            "1563/1563 [==============================] - ETA: 0s - loss: 5.3036 - accuracy: 0.0050\n",
            "Epoch 00007: val_accuracy did not improve from 0.00500\n",
            "1563/1563 [==============================] - 283s 181ms/step - loss: 5.3036 - accuracy: 0.0050 - val_loss: 5.3017 - val_accuracy: 0.0050\n",
            "Epoch 8/10\n",
            "1563/1563 [==============================] - ETA: 0s - loss: 5.3033 - accuracy: 0.0050\n",
            "Epoch 00008: val_accuracy did not improve from 0.00500\n",
            "1563/1563 [==============================] - 282s 180ms/step - loss: 5.3033 - accuracy: 0.0050 - val_loss: 5.3027 - val_accuracy: 0.0050\n",
            "Epoch 9/10\n",
            "1563/1563 [==============================] - ETA: 0s - loss: 5.3037 - accuracy: 0.0046\n",
            "Epoch 00009: val_accuracy did not improve from 0.00500\n",
            "1563/1563 [==============================] - 282s 180ms/step - loss: 5.3037 - accuracy: 0.0046 - val_loss: 5.3018 - val_accuracy: 0.0050\n",
            "Epoch 10/10\n",
            "1563/1563 [==============================] - ETA: 0s - loss: 5.3035 - accuracy: 0.0045\n",
            "Epoch 00010: val_accuracy did not improve from 0.00500\n",
            "1563/1563 [==============================] - 282s 180ms/step - loss: 5.3035 - accuracy: 0.0045 - val_loss: 5.3018 - val_accuracy: 0.0050\n",
            "INFO:tensorflow:Assets written to: ram://43ae52f4-5227-442c-976e-320ade98d898/assets\n"
          ]
        }
      ]
    },
    {
      "cell_type": "code",
      "metadata": {
        "colab": {
          "base_uri": "https://localhost:8080/"
        },
        "id": "bTEquAH0Dv1E",
        "outputId": "102d41cd-7ed7-4228-809d-d350557cb160"
      },
      "source": [
        "# lr = 0.001\n",
        "model = create_model()\n",
        "model.compile(loss = 'categorical_crossentropy',\n",
        "              metrics=['accuracy'],\n",
        "              optimizer= Adam(learning_rate= 0.001))\n",
        "\n",
        "\n",
        "checkpoint = ModelCheckpoint(\"/content/gdrive/MyDrive/dlproject/learningrate/vgg16_001.h5\",\n",
        "                             monitor='val_accuracy',\n",
        "                             verbose=1,\n",
        "                             save_best_only=True,\n",
        "                             save_weights_only=False,\n",
        "                             mode='auto',\n",
        "                             period=1)\n",
        "\n",
        "lr001 = model.fit(train_it,batch_size=64,\n",
        "                validation_data= validation_it,\n",
        "                epochs=10,\n",
        "                verbose=1,\n",
        "                callbacks=[checkpoint])\n",
        "\n",
        "# Open a file and use dump()\n",
        "with open('/content/gdrive/MyDrive/dlproject/learningrate/history001.pkl', 'wb') as file:\n",
        "      \n",
        "    # A new file will be created\n",
        "    pickle.dump(lr001, file)"
      ],
      "execution_count": null,
      "outputs": [
        {
          "name": "stdout",
          "output_type": "stream",
          "text": [
            "WARNING:tensorflow:`period` argument is deprecated. Please use `save_freq` to specify the frequency in number of batches seen.\n",
            "Epoch 1/10\n",
            "1563/1563 [==============================] - ETA: 0s - loss: 5.2992 - accuracy: 0.0044\n",
            "Epoch 00001: val_accuracy improved from -inf to 0.00500, saving model to /content/gdrive/MyDrive/dlproject/learningrate/vgg16_001.h5\n",
            "1563/1563 [==============================] - 325s 187ms/step - loss: 5.2992 - accuracy: 0.0044 - val_loss: 5.2983 - val_accuracy: 0.0050\n",
            "Epoch 2/10\n",
            "1563/1563 [==============================] - ETA: 0s - loss: 5.2991 - accuracy: 0.0047\n",
            "Epoch 00002: val_accuracy did not improve from 0.00500\n",
            "1563/1563 [==============================] - 289s 185ms/step - loss: 5.2991 - accuracy: 0.0047 - val_loss: 5.2983 - val_accuracy: 0.0050\n",
            "Epoch 3/10\n",
            "1563/1563 [==============================] - ETA: 0s - loss: 5.2991 - accuracy: 0.0044\n",
            "Epoch 00003: val_accuracy did not improve from 0.00500\n",
            "1563/1563 [==============================] - 288s 184ms/step - loss: 5.2991 - accuracy: 0.0044 - val_loss: 5.2983 - val_accuracy: 0.0050\n",
            "Epoch 4/10\n",
            "1563/1563 [==============================] - ETA: 0s - loss: 5.2991 - accuracy: 0.0043\n",
            "Epoch 00004: val_accuracy did not improve from 0.00500\n",
            "1563/1563 [==============================] - 287s 184ms/step - loss: 5.2991 - accuracy: 0.0043 - val_loss: 5.2983 - val_accuracy: 0.0050\n",
            "Epoch 5/10\n",
            "1563/1563 [==============================] - ETA: 0s - loss: 5.2991 - accuracy: 0.0042\n",
            "Epoch 00005: val_accuracy did not improve from 0.00500\n",
            "1563/1563 [==============================] - 288s 184ms/step - loss: 5.2991 - accuracy: 0.0042 - val_loss: 5.2983 - val_accuracy: 0.0050\n",
            "Epoch 6/10\n",
            "1563/1563 [==============================] - ETA: 0s - loss: 5.2991 - accuracy: 0.0044\n",
            "Epoch 00006: val_accuracy did not improve from 0.00500\n",
            "1563/1563 [==============================] - 290s 185ms/step - loss: 5.2991 - accuracy: 0.0044 - val_loss: 5.2983 - val_accuracy: 0.0050\n",
            "Epoch 7/10\n",
            "1563/1563 [==============================] - ETA: 0s - loss: 5.2991 - accuracy: 0.0045\n",
            "Epoch 00007: val_accuracy did not improve from 0.00500\n",
            "1563/1563 [==============================] - 290s 185ms/step - loss: 5.2991 - accuracy: 0.0045 - val_loss: 5.2983 - val_accuracy: 0.0050\n",
            "Epoch 8/10\n",
            "1563/1563 [==============================] - ETA: 0s - loss: 5.2991 - accuracy: 0.0045\n",
            "Epoch 00008: val_accuracy did not improve from 0.00500\n",
            "1563/1563 [==============================] - 291s 186ms/step - loss: 5.2991 - accuracy: 0.0045 - val_loss: 5.2983 - val_accuracy: 0.0050\n",
            "Epoch 9/10\n",
            "1563/1563 [==============================] - ETA: 0s - loss: 5.2991 - accuracy: 0.0043\n",
            "Epoch 00009: val_accuracy did not improve from 0.00500\n",
            "1563/1563 [==============================] - 292s 187ms/step - loss: 5.2991 - accuracy: 0.0043 - val_loss: 5.2983 - val_accuracy: 0.0050\n",
            "Epoch 10/10\n",
            "1563/1563 [==============================] - ETA: 0s - loss: 5.2991 - accuracy: 0.0045\n",
            "Epoch 00010: val_accuracy did not improve from 0.00500\n",
            "1563/1563 [==============================] - 292s 187ms/step - loss: 5.2991 - accuracy: 0.0045 - val_loss: 5.2983 - val_accuracy: 0.0050\n",
            "INFO:tensorflow:Assets written to: ram://472559a9-2a65-4a36-9e55-44691c379cc8/assets\n"
          ]
        }
      ]
    },
    {
      "cell_type": "code",
      "metadata": {
        "colab": {
          "base_uri": "https://localhost:8080/"
        },
        "id": "-HBxC0ZwD3PL",
        "outputId": "c8311ec5-8382-4ee6-8331-12bf36f033a5"
      },
      "source": [
        "# lr = 0.0001\n",
        "model = create_model()\n",
        "model.compile(loss = 'categorical_crossentropy',\n",
        "              metrics=['accuracy'],\n",
        "              optimizer= Adam(learning_rate= 0.0001))\n",
        "\n",
        "\n",
        "checkpoint = ModelCheckpoint(\"/content/gdrive/MyDrive/dlproject/learningrate/vgg16_0001.h5\",\n",
        "                             monitor='val_accuracy',\n",
        "                             verbose=1,\n",
        "                             save_best_only=True,\n",
        "                             save_weights_only=False,\n",
        "                             mode='auto',\n",
        "                             period=1)\n",
        "\n",
        "lr0001 = model.fit(train_it,batch_size=64,\n",
        "                validation_data= validation_it,\n",
        "                epochs=10,\n",
        "                verbose=1,\n",
        "                 callbacks=[checkpoint])\n",
        "\n",
        "# Open a file and use dump()\n",
        "with open('/content/gdrive/MyDrive/dlproject/learningrate/history0001.pkl', 'wb') as file:\n",
        "      \n",
        "    # A new file will be created\n",
        "    pickle.dump(lr0001, file)"
      ],
      "execution_count": null,
      "outputs": [
        {
          "name": "stdout",
          "output_type": "stream",
          "text": [
            "WARNING:tensorflow:`period` argument is deprecated. Please use `save_freq` to specify the frequency in number of batches seen.\n",
            "Epoch 1/10\n",
            "1563/1563 [==============================] - ETA: 0s - loss: 5.2985 - accuracy: 0.0040\n",
            "Epoch 00001: val_accuracy improved from -inf to 0.00500, saving model to /content/gdrive/MyDrive/dlproject/learningrate/vgg16_0001.h5\n",
            "1563/1563 [==============================] - 299s 190ms/step - loss: 5.2985 - accuracy: 0.0040 - val_loss: 5.2983 - val_accuracy: 0.0050\n",
            "Epoch 2/10\n",
            "1563/1563 [==============================] - ETA: 0s - loss: 5.2984 - accuracy: 0.0044\n",
            "Epoch 00002: val_accuracy did not improve from 0.00500\n",
            "1563/1563 [==============================] - 296s 189ms/step - loss: 5.2984 - accuracy: 0.0044 - val_loss: 5.2983 - val_accuracy: 0.0050\n",
            "Epoch 3/10\n",
            "1563/1563 [==============================] - ETA: 0s - loss: 5.2984 - accuracy: 0.0043\n",
            "Epoch 00003: val_accuracy did not improve from 0.00500\n",
            "1563/1563 [==============================] - 293s 187ms/step - loss: 5.2984 - accuracy: 0.0043 - val_loss: 5.2983 - val_accuracy: 0.0050\n",
            "Epoch 4/10\n",
            "1563/1563 [==============================] - ETA: 0s - loss: 5.2984 - accuracy: 0.0042\n",
            "Epoch 00004: val_accuracy did not improve from 0.00500\n",
            "1563/1563 [==============================] - 295s 188ms/step - loss: 5.2984 - accuracy: 0.0042 - val_loss: 5.2983 - val_accuracy: 0.0050\n",
            "Epoch 5/10\n",
            "1563/1563 [==============================] - ETA: 0s - loss: 5.2984 - accuracy: 0.0042\n",
            "Epoch 00005: val_accuracy did not improve from 0.00500\n",
            "1563/1563 [==============================] - 294s 188ms/step - loss: 5.2984 - accuracy: 0.0042 - val_loss: 5.2983 - val_accuracy: 0.0050\n",
            "Epoch 6/10\n",
            "1563/1563 [==============================] - ETA: 0s - loss: 5.2984 - accuracy: 0.0040\n",
            "Epoch 00006: val_accuracy did not improve from 0.00500\n",
            "1563/1563 [==============================] - 294s 188ms/step - loss: 5.2984 - accuracy: 0.0040 - val_loss: 5.2983 - val_accuracy: 0.0050\n",
            "Epoch 7/10\n",
            "1563/1563 [==============================] - ETA: 0s - loss: 5.2984 - accuracy: 0.0041\n",
            "Epoch 00007: val_accuracy did not improve from 0.00500\n",
            "1563/1563 [==============================] - 294s 188ms/step - loss: 5.2984 - accuracy: 0.0041 - val_loss: 5.2983 - val_accuracy: 0.0050\n",
            "Epoch 8/10\n",
            "1563/1563 [==============================] - ETA: 0s - loss: 5.2984 - accuracy: 0.0044\n",
            "Epoch 00008: val_accuracy did not improve from 0.00500\n",
            "1563/1563 [==============================] - 294s 188ms/step - loss: 5.2984 - accuracy: 0.0044 - val_loss: 5.2983 - val_accuracy: 0.0050\n",
            "Epoch 9/10\n",
            "1563/1563 [==============================] - ETA: 0s - loss: 5.2985 - accuracy: 0.0041\n",
            "Epoch 00009: val_accuracy did not improve from 0.00500\n",
            "1563/1563 [==============================] - 296s 189ms/step - loss: 5.2985 - accuracy: 0.0041 - val_loss: 5.2983 - val_accuracy: 0.0050\n",
            "Epoch 10/10\n",
            "1563/1563 [==============================] - ETA: 0s - loss: 5.2984 - accuracy: 0.0041\n",
            "Epoch 00010: val_accuracy did not improve from 0.00500\n",
            "1563/1563 [==============================] - 296s 189ms/step - loss: 5.2984 - accuracy: 0.0041 - val_loss: 5.2983 - val_accuracy: 0.0050\n",
            "INFO:tensorflow:Assets written to: ram://bf4cbcbe-7ce2-4521-b72d-701d38346a61/assets\n"
          ]
        }
      ]
    },
    {
      "cell_type": "code",
      "metadata": {
        "colab": {
          "base_uri": "https://localhost:8080/"
        },
        "id": "AHXbconUD_rn",
        "outputId": "c2de0871-c652-4640-84f4-5decc1cc4e41"
      },
      "source": [
        "# lr = 0.00001\n",
        "model = create_model()\n",
        "model.compile(loss = 'categorical_crossentropy',\n",
        "              metrics=['accuracy'],\n",
        "              optimizer= Adam(learning_rate= 0.00001))\n",
        "\n",
        "\n",
        "checkpoint = ModelCheckpoint(\"/content/gdrive/MyDrive/dlproject/learningrate/vgg16_00001.h5\",\n",
        "                             monitor='val_accuracy',\n",
        "                             verbose=1,\n",
        "                             save_best_only=True,\n",
        "                             save_weights_only=False,\n",
        "                             mode='auto',\n",
        "                             period=1)\n",
        "\n",
        "lr00001 = model.fit(train_it,batch_size=64,\n",
        "                validation_data= validation_it,\n",
        "                epochs=10,\n",
        "                verbose=1,\n",
        "                 callbacks=[checkpoint])\n",
        "\n",
        "# Open a file and use dump()\n",
        "with open('/content/gdrive/MyDrive/dlproject/learningrate/history00001.pkl', 'wb') as file:\n",
        "      \n",
        "    # A new file will be created\n",
        "    pickle.dump(lr00001, file)"
      ],
      "execution_count": null,
      "outputs": [
        {
          "name": "stdout",
          "output_type": "stream",
          "text": [
            "WARNING:tensorflow:`period` argument is deprecated. Please use `save_freq` to specify the frequency in number of batches seen.\n",
            "Epoch 1/10\n",
            "1563/1563 [==============================] - ETA: 0s - loss: 5.0658 - accuracy: 0.0201\n",
            "Epoch 00001: val_accuracy improved from -inf to 0.03470, saving model to /content/gdrive/MyDrive/dlproject/learningrate/vgg16_00001.h5\n",
            "1563/1563 [==============================] - 301s 192ms/step - loss: 5.0658 - accuracy: 0.0201 - val_loss: 4.9066 - val_accuracy: 0.0347\n",
            "Epoch 2/10\n",
            "1563/1563 [==============================] - ETA: 0s - loss: 4.7446 - accuracy: 0.0538\n",
            "Epoch 00002: val_accuracy improved from 0.03470 to 0.06880, saving model to /content/gdrive/MyDrive/dlproject/learningrate/vgg16_00001.h5\n",
            "1563/1563 [==============================] - 306s 196ms/step - loss: 4.7446 - accuracy: 0.0538 - val_loss: 4.5949 - val_accuracy: 0.0688\n",
            "Epoch 3/10\n",
            "1563/1563 [==============================] - ETA: 0s - loss: 4.4528 - accuracy: 0.0902\n",
            "Epoch 00003: val_accuracy improved from 0.06880 to 0.09840, saving model to /content/gdrive/MyDrive/dlproject/learningrate/vgg16_00001.h5\n",
            "1563/1563 [==============================] - 304s 195ms/step - loss: 4.4528 - accuracy: 0.0902 - val_loss: 4.3836 - val_accuracy: 0.0984\n",
            "Epoch 4/10\n",
            "1563/1563 [==============================] - ETA: 0s - loss: 4.2337 - accuracy: 0.1173\n",
            "Epoch 00004: val_accuracy improved from 0.09840 to 0.12430, saving model to /content/gdrive/MyDrive/dlproject/learningrate/vgg16_00001.h5\n",
            "1563/1563 [==============================] - 305s 195ms/step - loss: 4.2337 - accuracy: 0.1173 - val_loss: 4.2156 - val_accuracy: 0.1243\n",
            "Epoch 5/10\n",
            "1563/1563 [==============================] - ETA: 0s - loss: 4.0794 - accuracy: 0.1380\n",
            "Epoch 00005: val_accuracy improved from 0.12430 to 0.13700, saving model to /content/gdrive/MyDrive/dlproject/learningrate/vgg16_00001.h5\n",
            "1563/1563 [==============================] - 304s 195ms/step - loss: 4.0794 - accuracy: 0.1380 - val_loss: 4.0920 - val_accuracy: 0.1370\n",
            "Epoch 6/10\n",
            "1563/1563 [==============================] - ETA: 0s - loss: 3.9438 - accuracy: 0.1592\n",
            "Epoch 00006: val_accuracy improved from 0.13700 to 0.14820, saving model to /content/gdrive/MyDrive/dlproject/learningrate/vgg16_00001.h5\n",
            "1563/1563 [==============================] - 304s 194ms/step - loss: 3.9438 - accuracy: 0.1592 - val_loss: 4.0204 - val_accuracy: 0.1482\n",
            "Epoch 7/10\n",
            "1563/1563 [==============================] - ETA: 0s - loss: 3.8157 - accuracy: 0.1795\n",
            "Epoch 00007: val_accuracy improved from 0.14820 to 0.17230, saving model to /content/gdrive/MyDrive/dlproject/learningrate/vgg16_00001.h5\n",
            "1563/1563 [==============================] - 304s 195ms/step - loss: 3.8157 - accuracy: 0.1795 - val_loss: 3.9014 - val_accuracy: 0.1723\n",
            "Epoch 8/10\n",
            "1563/1563 [==============================] - ETA: 0s - loss: 3.7077 - accuracy: 0.1948\n",
            "Epoch 00008: val_accuracy improved from 0.17230 to 0.17650, saving model to /content/gdrive/MyDrive/dlproject/learningrate/vgg16_00001.h5\n",
            "1563/1563 [==============================] - 303s 194ms/step - loss: 3.7077 - accuracy: 0.1948 - val_loss: 3.8671 - val_accuracy: 0.1765\n",
            "Epoch 9/10\n",
            "1563/1563 [==============================] - ETA: 0s - loss: 3.5986 - accuracy: 0.2130\n",
            "Epoch 00009: val_accuracy improved from 0.17650 to 0.18620, saving model to /content/gdrive/MyDrive/dlproject/learningrate/vgg16_00001.h5\n",
            "1563/1563 [==============================] - 303s 194ms/step - loss: 3.5986 - accuracy: 0.2130 - val_loss: 3.7991 - val_accuracy: 0.1862\n",
            "Epoch 10/10\n",
            "1563/1563 [==============================] - ETA: 0s - loss: 3.5044 - accuracy: 0.2275\n",
            "Epoch 00010: val_accuracy improved from 0.18620 to 0.19540, saving model to /content/gdrive/MyDrive/dlproject/learningrate/vgg16_00001.h5\n",
            "1563/1563 [==============================] - 303s 194ms/step - loss: 3.5044 - accuracy: 0.2275 - val_loss: 3.7440 - val_accuracy: 0.1954\n",
            "INFO:tensorflow:Assets written to: ram://6aa4eecd-2164-4547-ad33-4887c0954025/assets\n"
          ]
        }
      ]
    },
    {
      "cell_type": "code",
      "metadata": {
        "colab": {
          "base_uri": "https://localhost:8080/"
        },
        "id": "yH0yAMRkEIel",
        "outputId": "d66c37b6-1f6d-4a9c-bcb4-e897d63471ce"
      },
      "source": [
        "# lr = 0.000001\n",
        "model = create_model()\n",
        "model.compile(loss = 'categorical_crossentropy',\n",
        "              metrics=['accuracy'],\n",
        "              optimizer= Adam(learning_rate= 0.000001))\n",
        "\n",
        "\n",
        "checkpoint = ModelCheckpoint(\"/content/gdrive/MyDrive/dlproject/learningrate/vgg16_000001.h5\",\n",
        "                             monitor='val_accuracy',\n",
        "                             verbose=1,\n",
        "                             save_best_only=True,\n",
        "                             save_weights_only=False,\n",
        "                             mode='auto',\n",
        "                             period=1)\n",
        "\n",
        "lr000001 = model.fit(train_it,batch_size=64,\n",
        "                validation_data= validation_it,\n",
        "                epochs=10,\n",
        "                verbose=1,\n",
        "                 callbacks=[checkpoint])\n",
        "\n",
        "# Open a file and use dump()\n",
        "with open('/content/gdrive/MyDrive/dlproject/learningrate/history000001.pkl', 'wb') as file:\n",
        "      \n",
        "    # A new file will be created\n",
        "    pickle.dump(lr000001, file)"
      ],
      "execution_count": null,
      "outputs": [
        {
          "name": "stdout",
          "output_type": "stream",
          "text": [
            "WARNING:tensorflow:`period` argument is deprecated. Please use `save_freq` to specify the frequency in number of batches seen.\n",
            "Epoch 1/10\n",
            "1563/1563 [==============================] - ETA: 0s - loss: 5.2682 - accuracy: 0.0098\n",
            "Epoch 00001: val_accuracy improved from -inf to 0.01690, saving model to /content/gdrive/MyDrive/dlproject/learningrate/vgg16_000001.h5\n",
            "1563/1563 [==============================] - 300s 191ms/step - loss: 5.2682 - accuracy: 0.0098 - val_loss: 5.1109 - val_accuracy: 0.0169\n",
            "Epoch 2/10\n",
            "1563/1563 [==============================] - ETA: 0s - loss: 5.0548 - accuracy: 0.0225\n",
            "Epoch 00002: val_accuracy improved from 0.01690 to 0.02440, saving model to /content/gdrive/MyDrive/dlproject/learningrate/vgg16_000001.h5\n",
            "1563/1563 [==============================] - 303s 194ms/step - loss: 5.0548 - accuracy: 0.0225 - val_loss: 5.0203 - val_accuracy: 0.0244\n",
            "Epoch 3/10\n",
            "1563/1563 [==============================] - ETA: 0s - loss: 5.0060 - accuracy: 0.0280\n",
            "Epoch 00003: val_accuracy improved from 0.02440 to 0.02740, saving model to /content/gdrive/MyDrive/dlproject/learningrate/vgg16_000001.h5\n",
            "1563/1563 [==============================] - 302s 193ms/step - loss: 5.0060 - accuracy: 0.0280 - val_loss: 4.9933 - val_accuracy: 0.0274\n",
            "Epoch 4/10\n",
            "1563/1563 [==============================] - ETA: 0s - loss: 4.9755 - accuracy: 0.0317\n",
            "Epoch 00004: val_accuracy improved from 0.02740 to 0.03120, saving model to /content/gdrive/MyDrive/dlproject/learningrate/vgg16_000001.h5\n",
            "1563/1563 [==============================] - 301s 193ms/step - loss: 4.9755 - accuracy: 0.0317 - val_loss: 4.9644 - val_accuracy: 0.0312\n",
            "Epoch 5/10\n",
            "1563/1563 [==============================] - ETA: 0s - loss: 4.9489 - accuracy: 0.0345\n",
            "Epoch 00005: val_accuracy improved from 0.03120 to 0.03420, saving model to /content/gdrive/MyDrive/dlproject/learningrate/vgg16_000001.h5\n",
            "1563/1563 [==============================] - 303s 194ms/step - loss: 4.9489 - accuracy: 0.0345 - val_loss: 4.9407 - val_accuracy: 0.0342\n",
            "Epoch 6/10\n",
            "1563/1563 [==============================] - ETA: 0s - loss: 4.9253 - accuracy: 0.0372\n",
            "Epoch 00006: val_accuracy improved from 0.03420 to 0.03620, saving model to /content/gdrive/MyDrive/dlproject/learningrate/vgg16_000001.h5\n",
            "1563/1563 [==============================] - 303s 194ms/step - loss: 4.9253 - accuracy: 0.0372 - val_loss: 4.9175 - val_accuracy: 0.0362\n",
            "Epoch 7/10\n",
            "1563/1563 [==============================] - ETA: 0s - loss: 4.9034 - accuracy: 0.0397\n",
            "Epoch 00007: val_accuracy improved from 0.03620 to 0.04120, saving model to /content/gdrive/MyDrive/dlproject/learningrate/vgg16_000001.h5\n",
            "1563/1563 [==============================] - 303s 194ms/step - loss: 4.9034 - accuracy: 0.0397 - val_loss: 4.8972 - val_accuracy: 0.0412\n",
            "Epoch 8/10\n",
            "1563/1563 [==============================] - ETA: 0s - loss: 4.8837 - accuracy: 0.0419\n",
            "Epoch 00008: val_accuracy did not improve from 0.04120\n",
            "1563/1563 [==============================] - 295s 188ms/step - loss: 4.8837 - accuracy: 0.0419 - val_loss: 4.8873 - val_accuracy: 0.0412\n",
            "Epoch 9/10\n",
            "1563/1563 [==============================] - ETA: 0s - loss: 4.8638 - accuracy: 0.0436\n",
            "Epoch 00009: val_accuracy improved from 0.04120 to 0.04320, saving model to /content/gdrive/MyDrive/dlproject/learningrate/vgg16_000001.h5\n",
            "1563/1563 [==============================] - 301s 192ms/step - loss: 4.8638 - accuracy: 0.0436 - val_loss: 4.8665 - val_accuracy: 0.0432\n",
            "Epoch 10/10\n",
            "1563/1563 [==============================] - ETA: 0s - loss: 4.8461 - accuracy: 0.0465\n",
            "Epoch 00010: val_accuracy improved from 0.04320 to 0.04660, saving model to /content/gdrive/MyDrive/dlproject/learningrate/vgg16_000001.h5\n",
            "1563/1563 [==============================] - 303s 193ms/step - loss: 4.8461 - accuracy: 0.0465 - val_loss: 4.8513 - val_accuracy: 0.0466\n",
            "INFO:tensorflow:Assets written to: ram://628481ac-c0ff-4525-a869-4504951cb00f/assets\n"
          ]
        }
      ]
    },
    {
      "cell_type": "code",
      "metadata": {
        "colab": {
          "background_save": true,
          "base_uri": "https://localhost:8080/"
        },
        "id": "rN4TaVhqEx1L",
        "outputId": "0c76b7de-0337-402c-ef3d-b20cdc9f5c49"
      },
      "source": [
        "# lr = 0.0000001\n",
        "model = create_model()\n",
        "model.compile(loss = 'categorical_crossentropy',\n",
        "              metrics=['accuracy'],\n",
        "              optimizer= Adam(learning_rate= 0.0000001))\n",
        "\n",
        "\n",
        "checkpoint = ModelCheckpoint(\"/content/gdrive/MyDrive/dlproject/learningrate/vgg16_000001.h5\",\n",
        "                             monitor='val_accuracy',\n",
        "                             verbose=1,\n",
        "                             save_best_only=True,\n",
        "                             save_weights_only=False,\n",
        "                             mode='auto',\n",
        "                             period=1)\n",
        "\n",
        "lr0000001 = model.fit(train_it,batch_size=64,\n",
        "                validation_data= validation_it,\n",
        "                epochs=10,\n",
        "                verbose=1,\n",
        "                 callbacks=[checkpoint])\n",
        "\n",
        "# Open a file and use dump()\n",
        "with open('/content/gdrive/MyDrive/dlproject/learningrate/history0000001.pkl', 'wb') as file:\n",
        "      \n",
        "    # A new file will be created\n",
        "    pickle.dump(lr0000001, file)"
      ],
      "execution_count": null,
      "outputs": [
        {
          "name": "stdout",
          "output_type": "stream",
          "text": [
            "WARNING:tensorflow:`period` argument is deprecated. Please use `save_freq` to specify the frequency in number of batches seen.\n",
            "Epoch 1/10\n",
            "1563/1563 [==============================] - ETA: 0s - loss: 5.2983 - accuracy: 0.0055\n",
            "Epoch 00001: val_accuracy improved from -inf to 0.00500, saving model to /content/gdrive/MyDrive/dlproject/learningrate/vgg16_000001.h5\n",
            "1563/1563 [==============================] - 367s 214ms/step - loss: 5.2983 - accuracy: 0.0055 - val_loss: 5.2982 - val_accuracy: 0.0050\n",
            "Epoch 2/10\n",
            "1563/1563 [==============================] - ETA: 0s - loss: 5.2981 - accuracy: 0.0052\n",
            "Epoch 00002: val_accuracy did not improve from 0.00500\n",
            "1563/1563 [==============================] - 287s 184ms/step - loss: 5.2981 - accuracy: 0.0052 - val_loss: 5.2981 - val_accuracy: 0.0047\n",
            "Epoch 3/10\n",
            "1563/1563 [==============================] - ETA: 0s - loss: 5.2980 - accuracy: 0.0053\n",
            "Epoch 00003: val_accuracy improved from 0.00500 to 0.00560, saving model to /content/gdrive/MyDrive/dlproject/learningrate/vgg16_000001.h5\n",
            "1563/1563 [==============================] - 311s 199ms/step - loss: 5.2980 - accuracy: 0.0053 - val_loss: 5.2979 - val_accuracy: 0.0056\n",
            "Epoch 4/10\n",
            "1563/1563 [==============================] - ETA: 0s - loss: 5.2977 - accuracy: 0.0057\n",
            "Epoch 00004: val_accuracy did not improve from 0.00560\n",
            "1563/1563 [==============================] - 286s 183ms/step - loss: 5.2977 - accuracy: 0.0057 - val_loss: 5.2975 - val_accuracy: 0.0048\n",
            "Epoch 5/10\n",
            "1563/1563 [==============================] - ETA: 0s - loss: 5.2972 - accuracy: 0.0064\n",
            "Epoch 00005: val_accuracy improved from 0.00560 to 0.00680, saving model to /content/gdrive/MyDrive/dlproject/learningrate/vgg16_000001.h5\n",
            "1563/1563 [==============================] - 310s 198ms/step - loss: 5.2972 - accuracy: 0.0064 - val_loss: 5.2969 - val_accuracy: 0.0068\n",
            "Epoch 6/10\n",
            "1563/1563 [==============================] - ETA: 0s - loss: 5.2963 - accuracy: 0.0080\n",
            "Epoch 00006: val_accuracy improved from 0.00680 to 0.00950, saving model to /content/gdrive/MyDrive/dlproject/learningrate/vgg16_000001.h5\n",
            "1563/1563 [==============================] - 310s 198ms/step - loss: 5.2963 - accuracy: 0.0080 - val_loss: 5.2956 - val_accuracy: 0.0095\n",
            "Epoch 7/10\n",
            "1563/1563 [==============================] - ETA: 0s - loss: 5.2944 - accuracy: 0.0102\n",
            "Epoch 00007: val_accuracy improved from 0.00950 to 0.01060, saving model to /content/gdrive/MyDrive/dlproject/learningrate/vgg16_000001.h5\n",
            "1563/1563 [==============================] - 316s 202ms/step - loss: 5.2944 - accuracy: 0.0102 - val_loss: 5.2929 - val_accuracy: 0.0106\n",
            "Epoch 8/10\n",
            "1563/1563 [==============================] - ETA: 0s - loss: 5.2902 - accuracy: 0.0109\n",
            "Epoch 00008: val_accuracy did not improve from 0.01060\n",
            "1563/1563 [==============================] - 295s 189ms/step - loss: 5.2902 - accuracy: 0.0109 - val_loss: 5.2865 - val_accuracy: 0.0103\n",
            "Epoch 9/10\n",
            "1563/1563 [==============================] - ETA: 0s - loss: 5.2809 - accuracy: 0.0111\n",
            "Epoch 00009: val_accuracy did not improve from 0.01060\n",
            "1563/1563 [==============================] - 294s 188ms/step - loss: 5.2809 - accuracy: 0.0111 - val_loss: 5.2729 - val_accuracy: 0.0103\n",
            "Epoch 10/10\n",
            "1563/1563 [==============================] - ETA: 0s - loss: 5.2615 - accuracy: 0.0111\n",
            "Epoch 00010: val_accuracy improved from 0.01060 to 0.01130, saving model to /content/gdrive/MyDrive/dlproject/learningrate/vgg16_000001.h5\n",
            "1563/1563 [==============================] - 317s 202ms/step - loss: 5.2615 - accuracy: 0.0111 - val_loss: 5.2466 - val_accuracy: 0.0113\n",
            "INFO:tensorflow:Assets written to: ram://503db6df-0a10-4889-b3fd-f59a1fd94d7c/assets\n"
          ]
        }
      ]
    },
    {
      "cell_type": "markdown",
      "source": [
        "#### Results"
      ],
      "metadata": {
        "id": "t4OPY58WW6TV"
      }
    },
    {
      "cell_type": "code",
      "metadata": {
        "id": "99vjloclTYzO",
        "colab": {
          "base_uri": "https://localhost:8080/"
        },
        "outputId": "3617156c-4fe6-4bb0-d242-41266c5d93cd"
      },
      "source": [
        "# saving model to Google Drive for every epoch (Backup)\n",
        "\n",
        "from google.colab import drive\n",
        "drive._mount('/content/gdrive')"
      ],
      "execution_count": null,
      "outputs": [
        {
          "output_type": "stream",
          "name": "stdout",
          "text": [
            "Drive already mounted at /content/gdrive; to attempt to forcibly remount, call drive.mount(\"/content/gdrive\", force_remount=True).\n"
          ]
        }
      ]
    },
    {
      "cell_type": "code",
      "metadata": {
        "id": "V-cbZU1QwIwT"
      },
      "source": [
        "# Importing trained models from google drive\n",
        "import pickle\n",
        "\n",
        "with open(\"/content/gdrive/MyDrive/dlproject/learningrate/history01.pkl\",'rb') as file:\n",
        "  hist01 = pickle.load(file)\n",
        "\n",
        "with open(\"/content/gdrive/MyDrive/dlproject/learningrate/history001.pkl\",'rb') as file:\n",
        "  hist001 = pickle.load(file)\n",
        "\n",
        "with open(\"/content/gdrive/MyDrive/dlproject/learningrate/history0001.pkl\",'rb') as file:\n",
        "  hist0001 = pickle.load(file)\n",
        "\n",
        "with open(\"/content/gdrive/MyDrive/dlproject/learningrate/history00001.pkl\",'rb') as file:\n",
        "  hist00001 = pickle.load(file)\n",
        "\n",
        "with open(\"/content/gdrive/MyDrive/dlproject/learningrate/history000001.pkl\",'rb') as file:\n",
        "  hist000001 = pickle.load(file)\n",
        "\n",
        "with open(\"/content/gdrive/MyDrive/dlproject/learningrate/history0000001.pkl\",'rb') as file:\n",
        "  hist0000001 = pickle.load(file)\n"
      ],
      "execution_count": null,
      "outputs": []
    },
    {
      "cell_type": "code",
      "metadata": {
        "id": "SfjxF_lCw__U"
      },
      "source": [
        "lr_01 = hist01.history['val_accuracy']\n",
        "lr_001 = hist001.history['val_accuracy']\n",
        "lr_0001 = hist0001.history['val_accuracy']\n",
        "lr_00001 = hist00001.history['val_accuracy']\n",
        "lr_000001 = hist000001.history['val_accuracy']\n",
        "lr_0000001 = hist0000001.history['val_accuracy']"
      ],
      "execution_count": null,
      "outputs": []
    },
    {
      "cell_type": "markdown",
      "source": [
        "##### Validation Accuracy VS Epochs"
      ],
      "metadata": {
        "id": "gCCzSeYZXRMF"
      }
    },
    {
      "cell_type": "code",
      "metadata": {
        "colab": {
          "base_uri": "https://localhost:8080/",
          "height": 479
        },
        "id": "mMcXqE09zBx-",
        "outputId": "9cac362b-d0ac-41db-86c7-f7b45368585f"
      },
      "source": [
        "import seaborn as sns\n",
        "import pandas as pd\n",
        "data = pd.DataFrame({'0.01' : lr_01, '0.001': lr_001, '0.0001': lr_0001, '0.00001' : lr_00001, '0.000001':lr_000001, '0.0000001':lr_0000001}, index = range(0,10,1))\n",
        "# data\n",
        "sns.set(rc={'figure.figsize':(11.7,8.27)})\n",
        "sns.lineplot(data = data, palette='tab10',linewidth=2.5).set(xlabel = 'Epochs', ylabel = 'Validation Accuracy', )"
      ],
      "execution_count": null,
      "outputs": [
        {
          "output_type": "execute_result",
          "data": {
            "text/plain": [
              "[Text(0, 0.5, 'Validation Accuracy'), Text(0.5, 0, 'Epochs')]"
            ]
          },
          "metadata": {},
          "execution_count": 18
        },
        {
          "output_type": "display_data",
          "data": {
            "image/png": "[encoded data removed]",
            "text/plain": [
              "<Figure size 842.4x595.44 with 1 Axes>"
            ]
          },
          "metadata": {}
        }
      ]
    },
    {
      "cell_type": "markdown",
      "source": [
        "###### From the above plot we can choose learning rate as 0.00001 "
      ],
      "metadata": {
        "id": "3p7QtYKCXe4U"
      }
    },
    {
      "cell_type": "markdown",
      "metadata": {
        "id": "3F_U2tUq1FmI"
      },
      "source": [
        "### FINDING OPTIMAL OPTIMIZER\n",
        "\n",
        "#### Here we training our model for 4 different optimizers i.e \n",
        "#### [SGD with momentum, Adagrad, RMSProp, Adam]"
      ]
    },
    {
      "cell_type": "code",
      "metadata": {
        "id": "l49dMzWEzPao",
        "colab": {
          "base_uri": "https://localhost:8080/"
        },
        "outputId": "814557d3-0d8b-49f0-8259-7f8770b89f19"
      },
      "source": [
        "# Optimizer = SGD + momentum\n",
        "model = create_model()\n",
        "model.compile(loss = 'categorical_crossentropy',\n",
        "              metrics=['accuracy'],\n",
        "              optimizer= tf.keras.optimizers.SGD(learning_rate= 0.00001, momentum= 0.9))\n",
        "\n",
        "\n",
        "checkpoint = ModelCheckpoint(\"/content/gdrive/MyDrive/dlproject/optimizers/vgg16_sgdmomen.h5\",\n",
        "                             monitor='val_accuracy',\n",
        "                             verbose=1,\n",
        "                             save_best_only=True,\n",
        "                             save_weights_only=False,\n",
        "                             mode='auto',\n",
        "                             period=1)\n",
        "\n",
        "lrsgdmomen = model.fit(train_it,batch_size=64,\n",
        "                validation_data= validation_it,\n",
        "                epochs=10,\n",
        "                verbose=1,\n",
        "                 callbacks=[checkpoint])\n",
        "\n",
        "# Open a file and use dump()\n",
        "with open('/content/gdrive/MyDrive/dlproject/optimizers/historysgdmomen.pkl', 'wb') as file:\n",
        "      \n",
        "    # A new file will be created\n",
        "    pickle.dump(lrsgdmomen, file)"
      ],
      "execution_count": null,
      "outputs": [
        {
          "output_type": "stream",
          "name": "stdout",
          "text": [
            "WARNING:tensorflow:`period` argument is deprecated. Please use `save_freq` to specify the frequency in number of batches seen.\n",
            "Epoch 1/10\n",
            "1563/1563 [==============================] - ETA: 0s - loss: 5.2983 - accuracy: 0.0050\n",
            "Epoch 00001: val_accuracy improved from -inf to 0.00510, saving model to /content/gdrive/MyDrive/dlproject/optimizers/vgg16_sgdmomen.h5\n",
            "1563/1563 [==============================] - 292s 186ms/step - loss: 5.2983 - accuracy: 0.0050 - val_loss: 5.2983 - val_accuracy: 0.0051\n",
            "Epoch 2/10\n",
            "1563/1563 [==============================] - ETA: 0s - loss: 5.2983 - accuracy: 0.0050\n",
            "Epoch 00002: val_accuracy did not improve from 0.00510\n",
            "1563/1563 [==============================] - 286s 183ms/step - loss: 5.2983 - accuracy: 0.0050 - val_loss: 5.2983 - val_accuracy: 0.0050\n",
            "Epoch 3/10\n",
            "1563/1563 [==============================] - ETA: 0s - loss: 5.2983 - accuracy: 0.0050\n",
            "Epoch 00003: val_accuracy did not improve from 0.00510\n",
            "1563/1563 [==============================] - 285s 182ms/step - loss: 5.2983 - accuracy: 0.0050 - val_loss: 5.2983 - val_accuracy: 0.0050\n",
            "Epoch 4/10\n",
            "1563/1563 [==============================] - ETA: 0s - loss: 5.2983 - accuracy: 0.0050\n",
            "Epoch 00004: val_accuracy did not improve from 0.00510\n",
            "1563/1563 [==============================] - 285s 182ms/step - loss: 5.2983 - accuracy: 0.0050 - val_loss: 5.2983 - val_accuracy: 0.0050\n",
            "Epoch 5/10\n",
            "1563/1563 [==============================] - ETA: 0s - loss: 5.2983 - accuracy: 0.0050\n",
            "Epoch 00005: val_accuracy did not improve from 0.00510\n",
            "1563/1563 [==============================] - 286s 183ms/step - loss: 5.2983 - accuracy: 0.0050 - val_loss: 5.2983 - val_accuracy: 0.0050\n",
            "Epoch 6/10\n",
            "1563/1563 [==============================] - ETA: 0s - loss: 5.2983 - accuracy: 0.0050\n",
            "Epoch 00006: val_accuracy did not improve from 0.00510\n",
            "1563/1563 [==============================] - 287s 183ms/step - loss: 5.2983 - accuracy: 0.0050 - val_loss: 5.2983 - val_accuracy: 0.0051\n",
            "Epoch 7/10\n",
            "1563/1563 [==============================] - ETA: 0s - loss: 5.2982 - accuracy: 0.0050\n",
            "Epoch 00007: val_accuracy did not improve from 0.00510\n",
            "1563/1563 [==============================] - 286s 183ms/step - loss: 5.2982 - accuracy: 0.0050 - val_loss: 5.2983 - val_accuracy: 0.0051\n",
            "Epoch 8/10\n",
            "1563/1563 [==============================] - ETA: 0s - loss: 5.2982 - accuracy: 0.0050\n",
            "Epoch 00008: val_accuracy did not improve from 0.00510\n",
            "1563/1563 [==============================] - 287s 184ms/step - loss: 5.2982 - accuracy: 0.0050 - val_loss: 5.2982 - val_accuracy: 0.0051\n",
            "Epoch 9/10\n",
            "1563/1563 [==============================] - ETA: 0s - loss: 5.2982 - accuracy: 0.0050\n",
            "Epoch 00009: val_accuracy did not improve from 0.00510\n",
            "1563/1563 [==============================] - 287s 184ms/step - loss: 5.2982 - accuracy: 0.0050 - val_loss: 5.2982 - val_accuracy: 0.0051\n",
            "Epoch 10/10\n",
            "1563/1563 [==============================] - ETA: 0s - loss: 5.2982 - accuracy: 0.0050\n",
            "Epoch 00010: val_accuracy did not improve from 0.00510\n",
            "1563/1563 [==============================] - 287s 184ms/step - loss: 5.2982 - accuracy: 0.0050 - val_loss: 5.2982 - val_accuracy: 0.0050\n",
            "INFO:tensorflow:Assets written to: ram://f9fbd5e5-349d-44a4-bff3-3251ac2f09ea/assets\n"
          ]
        }
      ]
    },
    {
      "cell_type": "code",
      "metadata": {
        "colab": {
          "base_uri": "https://localhost:8080/"
        },
        "id": "XKz3d9VTbY5U",
        "outputId": "89c72153-bcf6-4efd-b6f5-daafaac0a7e6"
      },
      "source": [
        "# Optimizer = Adagrad\n",
        "model = create_model()\n",
        "model.compile(loss = 'categorical_crossentropy',\n",
        "              metrics=['accuracy'],\n",
        "              optimizer= tf.keras.optimizers.Adagrad(learning_rate= 0.00001))\n",
        "\n",
        "\n",
        "checkpoint = ModelCheckpoint(\"/content/gdrive/MyDrive/dlproject/optimizers/vgg16_adagrad.h5\",\n",
        "                             monitor='val_accuracy',\n",
        "                             verbose=1,\n",
        "                             save_best_only=True,\n",
        "                             save_weights_only=False,\n",
        "                             mode='auto',\n",
        "                             period=1)\n",
        "\n",
        "lradagrad = model.fit(train_it,batch_size=64,\n",
        "                validation_data= validation_it,\n",
        "                epochs=10,\n",
        "                verbose=1,\n",
        "                 callbacks=[checkpoint])\n",
        "\n",
        "# Open a file and use dump()\n",
        "with open('/content/gdrive/MyDrive/dlproject/optimizers/historyadagrad.pkl', 'wb') as file:\n",
        "      \n",
        "    # A new file will be created\n",
        "    pickle.dump(lradagrad, file)"
      ],
      "execution_count": null,
      "outputs": [
        {
          "output_type": "stream",
          "name": "stdout",
          "text": [
            "WARNING:tensorflow:`period` argument is deprecated. Please use `save_freq` to specify the frequency in number of batches seen.\n",
            "Epoch 1/10\n",
            "1563/1563 [==============================] - ETA: 0s - loss: 5.2983 - accuracy: 0.0049\n",
            "Epoch 00001: val_accuracy improved from -inf to 0.00420, saving model to /content/gdrive/MyDrive/dlproject/optimizers/vgg16_adagrad.h5\n",
            "1563/1563 [==============================] - 298s 190ms/step - loss: 5.2983 - accuracy: 0.0049 - val_loss: 5.2983 - val_accuracy: 0.0042\n",
            "Epoch 2/10\n",
            "1563/1563 [==============================] - ETA: 0s - loss: 5.2983 - accuracy: 0.0048\n",
            "Epoch 00002: val_accuracy improved from 0.00420 to 0.00490, saving model to /content/gdrive/MyDrive/dlproject/optimizers/vgg16_adagrad.h5\n",
            "1563/1563 [==============================] - 299s 191ms/step - loss: 5.2983 - accuracy: 0.0048 - val_loss: 5.2983 - val_accuracy: 0.0049\n",
            "Epoch 3/10\n",
            "1563/1563 [==============================] - ETA: 0s - loss: 5.2983 - accuracy: 0.0049\n",
            "Epoch 00003: val_accuracy improved from 0.00490 to 0.00520, saving model to /content/gdrive/MyDrive/dlproject/optimizers/vgg16_adagrad.h5\n",
            "1563/1563 [==============================] - 300s 192ms/step - loss: 5.2983 - accuracy: 0.0049 - val_loss: 5.2983 - val_accuracy: 0.0052\n",
            "Epoch 4/10\n",
            "1563/1563 [==============================] - ETA: 0s - loss: 5.2983 - accuracy: 0.0048\n",
            "Epoch 00004: val_accuracy did not improve from 0.00520\n",
            "1563/1563 [==============================] - 296s 189ms/step - loss: 5.2983 - accuracy: 0.0048 - val_loss: 5.2983 - val_accuracy: 0.0051\n",
            "Epoch 5/10\n",
            "1563/1563 [==============================] - ETA: 0s - loss: 5.2983 - accuracy: 0.0048\n",
            "Epoch 00005: val_accuracy did not improve from 0.00520\n",
            "1563/1563 [==============================] - 294s 188ms/step - loss: 5.2983 - accuracy: 0.0048 - val_loss: 5.2983 - val_accuracy: 0.0048\n",
            "Epoch 6/10\n",
            "1563/1563 [==============================] - ETA: 0s - loss: 5.2983 - accuracy: 0.0048\n",
            "Epoch 00006: val_accuracy did not improve from 0.00520\n",
            "1563/1563 [==============================] - 295s 188ms/step - loss: 5.2983 - accuracy: 0.0048 - val_loss: 5.2983 - val_accuracy: 0.0052\n",
            "Epoch 7/10\n",
            "1563/1563 [==============================] - ETA: 0s - loss: 5.2983 - accuracy: 0.0048\n",
            "Epoch 00007: val_accuracy did not improve from 0.00520\n",
            "1563/1563 [==============================] - 295s 189ms/step - loss: 5.2983 - accuracy: 0.0048 - val_loss: 5.2983 - val_accuracy: 0.0051\n",
            "Epoch 8/10\n",
            "1563/1563 [==============================] - ETA: 0s - loss: 5.2983 - accuracy: 0.0050\n",
            "Epoch 00008: val_accuracy did not improve from 0.00520\n",
            "1563/1563 [==============================] - 293s 188ms/step - loss: 5.2983 - accuracy: 0.0050 - val_loss: 5.2983 - val_accuracy: 0.0052\n",
            "Epoch 9/10\n",
            "1563/1563 [==============================] - ETA: 0s - loss: 5.2983 - accuracy: 0.0049\n",
            "Epoch 00009: val_accuracy did not improve from 0.00520\n",
            "1563/1563 [==============================] - 294s 188ms/step - loss: 5.2983 - accuracy: 0.0049 - val_loss: 5.2983 - val_accuracy: 0.0047\n",
            "Epoch 10/10\n",
            "1563/1563 [==============================] - ETA: 0s - loss: 5.2983 - accuracy: 0.0048\n",
            "Epoch 00010: val_accuracy did not improve from 0.00520\n",
            "1563/1563 [==============================] - 291s 186ms/step - loss: 5.2983 - accuracy: 0.0048 - val_loss: 5.2983 - val_accuracy: 0.0048\n",
            "INFO:tensorflow:Assets written to: ram://34d5fb89-cdc2-4eb0-9a0e-8219dc0ccbaf/assets\n"
          ]
        }
      ]
    },
    {
      "cell_type": "code",
      "metadata": {
        "id": "zCXIXIWkca2_",
        "colab": {
          "base_uri": "https://localhost:8080/"
        },
        "outputId": "bbfa389c-3166-45ba-a0e5-1c24a60d7b38"
      },
      "source": [
        "# Optimizer = RMSProp\n",
        "model = create_model()\n",
        "model.compile(loss = 'categorical_crossentropy',\n",
        "              metrics=['accuracy'],\n",
        "              optimizer= tf.keras.optimizers.RMSprop(learning_rate= 0.00001))\n",
        "\n",
        "\n",
        "checkpoint = ModelCheckpoint(\"/content/gdrive/MyDrive/dlproject/optimizers/vgg16_RMSProp.h5\",\n",
        "                             monitor='val_accuracy',\n",
        "                             verbose=1,\n",
        "                             save_best_only=True,\n",
        "                             save_weights_only=False,\n",
        "                             mode='auto',\n",
        "                             period=1)\n",
        "\n",
        "lrRMSProp = model.fit(train_it,batch_size=64,\n",
        "                validation_data= validation_it,\n",
        "                epochs=10,\n",
        "                verbose=1,\n",
        "                 callbacks=[checkpoint])\n",
        "\n",
        "# Open a file and use dump()\n",
        "with open('/content/gdrive/MyDrive/dlproject/optimizers/historyRMSProp.pkl', 'wb') as file:\n",
        "      \n",
        "    # A new file will be created\n",
        "    pickle.dump(lrRMSProp, file)"
      ],
      "execution_count": null,
      "outputs": [
        {
          "output_type": "stream",
          "name": "stdout",
          "text": [
            "WARNING:tensorflow:`period` argument is deprecated. Please use `save_freq` to specify the frequency in number of batches seen.\n",
            "Epoch 1/10\n",
            "1563/1563 [==============================] - ETA: 0s - loss: 5.0993 - accuracy: 0.0173\n",
            "Epoch 00001: val_accuracy improved from -inf to 0.02990, saving model to /content/gdrive/MyDrive/dlproject/optimizers/vgg16_RMSProp.h5\n",
            "1563/1563 [==============================] - 342s 209ms/step - loss: 5.0993 - accuracy: 0.0173 - val_loss: 4.9715 - val_accuracy: 0.0299\n",
            "Epoch 2/10\n",
            "1563/1563 [==============================] - ETA: 0s - loss: 4.8809 - accuracy: 0.0394\n",
            "Epoch 00002: val_accuracy improved from 0.02990 to 0.05080, saving model to /content/gdrive/MyDrive/dlproject/optimizers/vgg16_RMSProp.h5\n",
            "1563/1563 [==============================] - 323s 206ms/step - loss: 4.8809 - accuracy: 0.0394 - val_loss: 4.7805 - val_accuracy: 0.0508\n",
            "Epoch 3/10\n",
            "1563/1563 [==============================] - ETA: 0s - loss: 4.6485 - accuracy: 0.0664\n",
            "Epoch 00003: val_accuracy improved from 0.05080 to 0.07480, saving model to /content/gdrive/MyDrive/dlproject/optimizers/vgg16_RMSProp.h5\n",
            "1563/1563 [==============================] - 323s 207ms/step - loss: 4.6485 - accuracy: 0.0664 - val_loss: 4.5577 - val_accuracy: 0.0748\n",
            "Epoch 4/10\n",
            "1563/1563 [==============================] - ETA: 0s - loss: 4.4185 - accuracy: 0.0926\n",
            "Epoch 00004: val_accuracy improved from 0.07480 to 0.09970, saving model to /content/gdrive/MyDrive/dlproject/optimizers/vgg16_RMSProp.h5\n",
            "1563/1563 [==============================] - 324s 207ms/step - loss: 4.4185 - accuracy: 0.0926 - val_loss: 4.3817 - val_accuracy: 0.0997\n",
            "Epoch 5/10\n",
            "1563/1563 [==============================] - ETA: 0s - loss: 4.2458 - accuracy: 0.1166\n",
            "Epoch 00005: val_accuracy improved from 0.09970 to 0.12240, saving model to /content/gdrive/MyDrive/dlproject/optimizers/vgg16_RMSProp.h5\n",
            "1563/1563 [==============================] - 324s 207ms/step - loss: 4.2458 - accuracy: 0.1166 - val_loss: 4.2094 - val_accuracy: 0.1224\n",
            "Epoch 6/10\n",
            "1563/1563 [==============================] - ETA: 0s - loss: 4.0961 - accuracy: 0.1369\n",
            "Epoch 00006: val_accuracy improved from 0.12240 to 0.14010, saving model to /content/gdrive/MyDrive/dlproject/optimizers/vgg16_RMSProp.h5\n",
            "1563/1563 [==============================] - 323s 207ms/step - loss: 4.0961 - accuracy: 0.1369 - val_loss: 4.0899 - val_accuracy: 0.1401\n",
            "Epoch 7/10\n",
            "1563/1563 [==============================] - ETA: 0s - loss: 3.9673 - accuracy: 0.1569\n",
            "Epoch 00007: val_accuracy improved from 0.14010 to 0.15710, saving model to /content/gdrive/MyDrive/dlproject/optimizers/vgg16_RMSProp.h5\n",
            "1563/1563 [==============================] - 323s 206ms/step - loss: 3.9673 - accuracy: 0.1569 - val_loss: 3.9829 - val_accuracy: 0.1571\n",
            "Epoch 8/10\n",
            "1563/1563 [==============================] - ETA: 0s - loss: 3.8553 - accuracy: 0.1732\n",
            "Epoch 00008: val_accuracy improved from 0.15710 to 0.16640, saving model to /content/gdrive/MyDrive/dlproject/optimizers/vgg16_RMSProp.h5\n",
            "1563/1563 [==============================] - 323s 206ms/step - loss: 3.8553 - accuracy: 0.1732 - val_loss: 3.9278 - val_accuracy: 0.1664\n",
            "Epoch 9/10\n",
            "1563/1563 [==============================] - ETA: 0s - loss: 3.7526 - accuracy: 0.1888\n",
            "Epoch 00009: val_accuracy improved from 0.16640 to 0.18320, saving model to /content/gdrive/MyDrive/dlproject/optimizers/vgg16_RMSProp.h5\n",
            "1563/1563 [==============================] - 323s 206ms/step - loss: 3.7526 - accuracy: 0.1888 - val_loss: 3.8274 - val_accuracy: 0.1832\n",
            "Epoch 10/10\n",
            "1563/1563 [==============================] - ETA: 0s - loss: 3.6591 - accuracy: 0.2042\n",
            "Epoch 00010: val_accuracy improved from 0.18320 to 0.18970, saving model to /content/gdrive/MyDrive/dlproject/optimizers/vgg16_RMSProp.h5\n",
            "1563/1563 [==============================] - 323s 207ms/step - loss: 3.6591 - accuracy: 0.2042 - val_loss: 3.7942 - val_accuracy: 0.1897\n",
            "INFO:tensorflow:Assets written to: ram://11943f1b-8631-49b4-ae89-692774eb621e/assets\n"
          ]
        }
      ]
    },
    {
      "cell_type": "markdown",
      "source": [
        "#### Results"
      ],
      "metadata": {
        "id": "ZllANm3oYEGt"
      }
    },
    {
      "cell_type": "code",
      "metadata": {
        "id": "jrz_O-dXFMDj"
      },
      "source": [
        "# Importing trained model from google drive\n",
        "\n",
        "import pickle\n",
        "\n",
        "with open(\"/content/gdrive/MyDrive/dlproject/learningrate/history00001.pkl\",'rb') as file:\n",
        "  adam = pickle.load(file)\n",
        "\n",
        "with open(\"/content/gdrive/MyDrive/dlproject/optimizers/historysgdmomen.pkl\",'rb') as file:\n",
        "  sgdmomen = pickle.load(file)\n",
        "\n",
        "with open(\"/content/gdrive/MyDrive/dlproject/optimizers/historyadagrad.pkl\",'rb') as file:\n",
        "  adagrad = pickle.load(file)\n",
        "\n",
        "with open(\"/content/gdrive/MyDrive/dlproject/optimizers/historyRMSProp.pkl\",'rb') as file:\n",
        "  rmsprop = pickle.load(file)"
      ],
      "execution_count": null,
      "outputs": []
    },
    {
      "cell_type": "code",
      "metadata": {
        "id": "BS1BhgW7FL-0"
      },
      "source": [
        "adam = adam.history['val_accuracy']\n",
        "sgdmomen = sgdmomen.history['val_accuracy']\n",
        "adagrad = adagrad.history['val_accuracy']\n",
        "rmsprop = rmsprop.history['val_accuracy']"
      ],
      "execution_count": null,
      "outputs": []
    },
    {
      "cell_type": "code",
      "metadata": {
        "id": "SQc1OEJ6HBvo",
        "colab": {
          "base_uri": "https://localhost:8080/",
          "height": 534
        },
        "outputId": "44ef7bde-c2d3-4aee-bb97-7c0b057bf6a0"
      },
      "source": [
        "import seaborn as sns\n",
        "import pandas as pd\n",
        "data = pd.DataFrame({'SGD+Momentum' : sgdmomen, 'Adagrad': adagrad, 'RMSprop': rmsprop, 'Adam' : adam}, index = range(0,10,1))\n",
        "# data\n",
        "sns.set(rc={'figure.figsize':(11.7,8.27)})\n",
        "sns.lineplot(data = data, palette='tab10',linewidth=2.5).set(xlabel = 'Epochs', ylabel = 'Validation Accuracy', )"
      ],
      "execution_count": null,
      "outputs": [
        {
          "output_type": "execute_result",
          "data": {
            "text/plain": [
              "[Text(0, 0.5, 'Validation Accuracy'), Text(0.5, 0, 'Epochs')]"
            ]
          },
          "metadata": {},
          "execution_count": 11
        },
        {
          "output_type": "display_data",
          "data": {
            "image/png": "[encoded data removed]",
            "text/plain": [
              "<Figure size 842.4x595.44 with 1 Axes>"
            ]
          },
          "metadata": {}
        }
      ]
    },
    {
      "cell_type": "markdown",
      "source": [
        "##### From the above plot we can observe that Adam and RMSProp performed well. Lets proceed with Adam"
      ],
      "metadata": {
        "id": "JLyaeN27YPYF"
      }
    },
    {
      "cell_type": "markdown",
      "metadata": {
        "id": "bC1Ybx1_HXNs"
      },
      "source": [
        "### Training model using Adam optimizer with learning rate = 0.00004"
      ]
    },
    {
      "cell_type": "code",
      "metadata": {
        "id": "8XZAe8-LG8Hm"
      },
      "source": [
        "# importing model trained for learning rate\n",
        "\n",
        "from tensorflow.keras.models import load_model\n",
        "\n",
        "model = load_model(\"/content/gdrive/MyDrive/dlproject/learningrate/vgg16_00001.h5\")"
      ],
      "execution_count": null,
      "outputs": []
    },
    {
      "cell_type": "code",
      "metadata": {
        "colab": {
          "base_uri": "https://localhost:8080/"
        },
        "id": "vfNmxGzCIAvx",
        "outputId": "cf889c84-60eb-4137-be7d-e3aa59f53252"
      },
      "source": [
        "model.summary()"
      ],
      "execution_count": null,
      "outputs": [
        {
          "output_type": "stream",
          "name": "stdout",
          "text": [
            "Model: \"sequential_2\"\n",
            "_________________________________________________________________\n",
            " Layer (type)                Output Shape              Param #   \n",
            "=================================================================\n",
            " conv2d_20 (Conv2D)          (None, 64, 64, 64)        1792      \n",
            "                                                                 \n",
            " conv2d_21 (Conv2D)          (None, 64, 64, 64)        36928     \n",
            "                                                                 \n",
            " max_pooling2d_8 (MaxPooling  (None, 32, 32, 64)       0         \n",
            " 2D)                                                             \n",
            "                                                                 \n",
            " conv2d_22 (Conv2D)          (None, 32, 32, 128)       73856     \n",
            "                                                                 \n",
            " conv2d_23 (Conv2D)          (None, 32, 32, 128)       147584    \n",
            "                                                                 \n",
            " max_pooling2d_9 (MaxPooling  (None, 16, 16, 128)      0         \n",
            " 2D)                                                             \n",
            "                                                                 \n",
            " conv2d_24 (Conv2D)          (None, 16, 16, 256)       295168    \n",
            "                                                                 \n",
            " conv2d_25 (Conv2D)          (None, 16, 16, 256)       590080    \n",
            "                                                                 \n",
            " conv2d_26 (Conv2D)          (None, 16, 16, 256)       590080    \n",
            "                                                                 \n",
            " max_pooling2d_10 (MaxPoolin  (None, 8, 8, 256)        0         \n",
            " g2D)                                                            \n",
            "                                                                 \n",
            " conv2d_27 (Conv2D)          (None, 8, 8, 512)         1180160   \n",
            "                                                                 \n",
            " conv2d_28 (Conv2D)          (None, 8, 8, 512)         2359808   \n",
            "                                                                 \n",
            " conv2d_29 (Conv2D)          (None, 8, 8, 512)         2359808   \n",
            "                                                                 \n",
            " max_pooling2d_11 (MaxPoolin  (None, 4, 4, 512)        0         \n",
            " g2D)                                                            \n",
            "                                                                 \n",
            " flatten_2 (Flatten)         (None, 8192)              0         \n",
            "                                                                 \n",
            " dense_6 (Dense)             (None, 4096)              33558528  \n",
            "                                                                 \n",
            " dense_7 (Dense)             (None, 4096)              16781312  \n",
            "                                                                 \n",
            " dense_8 (Dense)             (None, 200)               819400    \n",
            "                                                                 \n",
            "=================================================================\n",
            "Total params: 58,794,504\n",
            "Trainable params: 58,794,504\n",
            "Non-trainable params: 0\n",
            "_________________________________________________________________\n"
          ]
        }
      ]
    },
    {
      "cell_type": "code",
      "metadata": {
        "colab": {
          "base_uri": "https://localhost:8080/"
        },
        "id": "AwqsgamhIdF4",
        "outputId": "6306210c-c1d7-49d0-b3fb-dc39546abc05"
      },
      "source": [
        "# Training for 10 more epochs\n",
        "model.compile(loss = 'categorical_crossentropy',\n",
        "              metrics=['accuracy'],\n",
        "              optimizer= Adam(learning_rate= 0.00001))\n",
        "\n",
        "\n",
        "checkpoint = ModelCheckpoint(\"/content/gdrive/MyDrive/dlproject/training/10_20/model-{epoch:02d}-{val_accuracy:.3f}.hdf5\",\n",
        "                             monitor='val_accuracy',\n",
        "                             verbose=1,\n",
        "                             save_best_only=True,\n",
        "                             save_weights_only=False,\n",
        "                             mode='auto',\n",
        "                             period=1,\n",
        "                             )\n",
        "\n",
        "model11_20 = model.fit(train_it,batch_size=64,\n",
        "                validation_data= validation_it,\n",
        "                epochs=10,\n",
        "                verbose=1,\n",
        "                 callbacks=[checkpoint])\n",
        "\n",
        "# Open a file and use dump()\n",
        "with open('/content/gdrive/MyDrive/dlproject/training/10_20/history0000001.pkl', 'wb') as file:\n",
        "      \n",
        "    # A new file will be created\n",
        "    pickle.dump(model11_20, file)"
      ],
      "execution_count": null,
      "outputs": [
        {
          "output_type": "stream",
          "name": "stdout",
          "text": [
            "WARNING:tensorflow:`period` argument is deprecated. Please use `save_freq` to specify the frequency in number of batches seen.\n",
            "Epoch 1/10\n",
            "1563/1563 [==============================] - ETA: 0s - loss: 3.4081 - accuracy: 0.2441\n",
            "Epoch 00001: val_accuracy improved from -inf to 0.20130, saving model to /content/gdrive/MyDrive/dlproject/training/10_20/model-01-0.201.hdf5\n",
            "1563/1563 [==============================] - 312s 192ms/step - loss: 3.4081 - accuracy: 0.2441 - val_loss: 3.7075 - val_accuracy: 0.2013\n",
            "Epoch 2/10\n",
            "1563/1563 [==============================] - ETA: 0s - loss: 3.3140 - accuracy: 0.2603\n",
            "Epoch 00002: val_accuracy improved from 0.20130 to 0.21590, saving model to /content/gdrive/MyDrive/dlproject/training/10_20/model-02-0.216.hdf5\n",
            "1563/1563 [==============================] - 304s 195ms/step - loss: 3.3140 - accuracy: 0.2603 - val_loss: 3.6654 - val_accuracy: 0.2159\n",
            "Epoch 3/10\n",
            "1563/1563 [==============================] - ETA: 0s - loss: 3.2192 - accuracy: 0.2773\n",
            "Epoch 00003: val_accuracy improved from 0.21590 to 0.21770, saving model to /content/gdrive/MyDrive/dlproject/training/10_20/model-03-0.218.hdf5\n",
            "1563/1563 [==============================] - 303s 194ms/step - loss: 3.2192 - accuracy: 0.2773 - val_loss: 3.6382 - val_accuracy: 0.2177\n",
            "Epoch 4/10\n",
            "1563/1563 [==============================] - ETA: 0s - loss: 3.1329 - accuracy: 0.2902\n",
            "Epoch 00004: val_accuracy improved from 0.21770 to 0.22090, saving model to /content/gdrive/MyDrive/dlproject/training/10_20/model-04-0.221.hdf5\n",
            "1563/1563 [==============================] - 302s 193ms/step - loss: 3.1329 - accuracy: 0.2902 - val_loss: 3.6259 - val_accuracy: 0.2209\n",
            "Epoch 5/10\n",
            "1563/1563 [==============================] - ETA: 0s - loss: 3.0416 - accuracy: 0.3063\n",
            "Epoch 00005: val_accuracy improved from 0.22090 to 0.23030, saving model to /content/gdrive/MyDrive/dlproject/training/10_20/model-05-0.230.hdf5\n",
            "1563/1563 [==============================] - 301s 193ms/step - loss: 3.0416 - accuracy: 0.3063 - val_loss: 3.6119 - val_accuracy: 0.2303\n",
            "Epoch 6/10\n",
            "1563/1563 [==============================] - ETA: 0s - loss: 2.9483 - accuracy: 0.3234\n",
            "Epoch 00006: val_accuracy did not improve from 0.23030\n",
            "1563/1563 [==============================] - 299s 191ms/step - loss: 2.9483 - accuracy: 0.3234 - val_loss: 3.6253 - val_accuracy: 0.2297\n",
            "Epoch 7/10\n",
            "1563/1563 [==============================] - ETA: 0s - loss: 2.8602 - accuracy: 0.3370\n",
            "Epoch 00007: val_accuracy improved from 0.23030 to 0.23230, saving model to /content/gdrive/MyDrive/dlproject/training/10_20/model-07-0.232.hdf5\n",
            "1563/1563 [==============================] - 299s 191ms/step - loss: 2.8602 - accuracy: 0.3370 - val_loss: 3.6317 - val_accuracy: 0.2323\n",
            "Epoch 8/10\n",
            "1563/1563 [==============================] - ETA: 0s - loss: 2.7741 - accuracy: 0.3529\n",
            "Epoch 00008: val_accuracy improved from 0.23230 to 0.23350, saving model to /content/gdrive/MyDrive/dlproject/training/10_20/model-08-0.234.hdf5\n",
            "1563/1563 [==============================] - 301s 192ms/step - loss: 2.7741 - accuracy: 0.3529 - val_loss: 3.6140 - val_accuracy: 0.2335\n",
            "Epoch 9/10\n",
            "1563/1563 [==============================] - ETA: 0s - loss: 2.6832 - accuracy: 0.3684\n",
            "Epoch 00009: val_accuracy improved from 0.23350 to 0.24220, saving model to /content/gdrive/MyDrive/dlproject/training/10_20/model-09-0.242.hdf5\n",
            "1563/1563 [==============================] - 298s 191ms/step - loss: 2.6832 - accuracy: 0.3684 - val_loss: 3.6251 - val_accuracy: 0.2422\n",
            "Epoch 10/10\n",
            "1563/1563 [==============================] - ETA: 0s - loss: 2.5923 - accuracy: 0.3858\n",
            "Epoch 00010: val_accuracy improved from 0.24220 to 0.24430, saving model to /content/gdrive/MyDrive/dlproject/training/10_20/model-10-0.244.hdf5\n",
            "1563/1563 [==============================] - 300s 192ms/step - loss: 2.5923 - accuracy: 0.3858 - val_loss: 3.6244 - val_accuracy: 0.2443\n",
            "INFO:tensorflow:Assets written to: ram://a76aa932-a7b1-4ea2-bde5-9fca37b8fdb9/assets\n"
          ]
        }
      ]
    },
    {
      "cell_type": "code",
      "metadata": {
        "id": "C8OAQ84GLFI3",
        "colab": {
          "base_uri": "https://localhost:8080/"
        },
        "outputId": "82b31ecf-2d81-4664-fe1d-d0fe37236743"
      },
      "source": [
        "model11_20"
      ],
      "execution_count": null,
      "outputs": [
        {
          "output_type": "execute_result",
          "data": {
            "text/plain": [
              "<keras.callbacks.History at 0x7f43d6af6ed0>"
            ]
          },
          "metadata": {},
          "execution_count": 13
        }
      ]
    },
    {
      "cell_type": "code",
      "metadata": {
        "colab": {
          "base_uri": "https://localhost:8080/"
        },
        "id": "8bY2XfvitKoR",
        "outputId": "79d8b721-334d-4421-b251-2b4578bf825f"
      },
      "source": [
        "model11_20.history"
      ],
      "execution_count": null,
      "outputs": [
        {
          "output_type": "execute_result",
          "data": {
            "text/plain": [
              "{'accuracy': [0.24413999915122986,\n",
              "  0.2603299915790558,\n",
              "  0.2772899866104126,\n",
              "  0.29019999504089355,\n",
              "  0.3063499927520752,\n",
              "  0.323419988155365,\n",
              "  0.33698999881744385,\n",
              "  0.3528600037097931,\n",
              "  0.3683899939060211,\n",
              "  0.38578000664711],\n",
              " 'loss': [3.4081125259399414,\n",
              "  3.313955307006836,\n",
              "  3.219198226928711,\n",
              "  3.132915735244751,\n",
              "  3.041640520095825,\n",
              "  2.9483044147491455,\n",
              "  2.860203504562378,\n",
              "  2.7740542888641357,\n",
              "  2.683223009109497,\n",
              "  2.59232234954834],\n",
              " 'val_accuracy': [0.2012999951839447,\n",
              "  0.2159000039100647,\n",
              "  0.21770000457763672,\n",
              "  0.22089999914169312,\n",
              "  0.23029999434947968,\n",
              "  0.2296999990940094,\n",
              "  0.23229999840259552,\n",
              "  0.23350000381469727,\n",
              "  0.24220000207424164,\n",
              "  0.2442999929189682],\n",
              " 'val_loss': [3.7075116634368896,\n",
              "  3.665426254272461,\n",
              "  3.6381678581237793,\n",
              "  3.625943660736084,\n",
              "  3.611905574798584,\n",
              "  3.625291347503662,\n",
              "  3.6317121982574463,\n",
              "  3.6139678955078125,\n",
              "  3.62511944770813,\n",
              "  3.624412775039673]}"
            ]
          },
          "metadata": {},
          "execution_count": 14
        }
      ]
    },
    {
      "cell_type": "code",
      "metadata": {
        "colab": {
          "base_uri": "https://localhost:8080/"
        },
        "id": "xBKfqEJdtNr2",
        "outputId": "4ed441b8-d6ec-4128-d1b8-3246335b2f4f"
      },
      "source": [
        "# 10 More epochs\n",
        "# Training for 10 more epochs\n",
        "model.compile(loss = 'categorical_crossentropy',\n",
        "              metrics=['accuracy'],\n",
        "              optimizer= Adam(learning_rate= 0.00001))\n",
        "\n",
        "\n",
        "checkpoint = ModelCheckpoint(\"/content/gdrive/MyDrive/dlproject/training/21_30/model-{epoch:02d}-{val_accuracy:.3f}.hdf5\",\n",
        "                             monitor='val_accuracy',\n",
        "                             verbose=1,\n",
        "                             save_best_only=True,\n",
        "                             save_weights_only=False,\n",
        "                             mode='auto',\n",
        "                             period=1,\n",
        "                             )\n",
        "\n",
        "model21_30 = model.fit(train_it,batch_size=64,\n",
        "                validation_data= validation_it,\n",
        "                epochs=10,\n",
        "                verbose=1,\n",
        "                 callbacks=[checkpoint])\n",
        "\n",
        "# Open a file and use dump()\n",
        "with open('/content/gdrive/MyDrive/dlproject/training/21_30/model21_30.pkl', 'wb') as file:\n",
        "      \n",
        "    # A new file will be created\n",
        "    pickle.dump(model21_30, file)"
      ],
      "execution_count": null,
      "outputs": [
        {
          "output_type": "stream",
          "name": "stdout",
          "text": [
            "WARNING:tensorflow:`period` argument is deprecated. Please use `save_freq` to specify the frequency in number of batches seen.\n",
            "Epoch 1/10\n",
            "1563/1563 [==============================] - ETA: 0s - loss: 2.5009 - accuracy: 0.4025\n",
            "Epoch 00001: val_accuracy improved from -inf to 0.23640, saving model to /content/gdrive/MyDrive/dlproject/training/21_30/model-01-0.236.hdf5\n",
            "1563/1563 [==============================] - 304s 194ms/step - loss: 2.5009 - accuracy: 0.4025 - val_loss: 3.6924 - val_accuracy: 0.2364\n",
            "Epoch 2/10\n",
            "1563/1563 [==============================] - ETA: 0s - loss: 2.4132 - accuracy: 0.4189\n",
            "Epoch 00002: val_accuracy improved from 0.23640 to 0.23830, saving model to /content/gdrive/MyDrive/dlproject/training/21_30/model-02-0.238.hdf5\n",
            "1563/1563 [==============================] - 300s 192ms/step - loss: 2.4132 - accuracy: 0.4189 - val_loss: 3.7359 - val_accuracy: 0.2383\n",
            "Epoch 3/10\n",
            "1563/1563 [==============================] - ETA: 0s - loss: 2.3241 - accuracy: 0.4358\n",
            "Epoch 00003: val_accuracy did not improve from 0.23830\n",
            "1563/1563 [==============================] - 297s 190ms/step - loss: 2.3241 - accuracy: 0.4358 - val_loss: 3.7691 - val_accuracy: 0.2337\n",
            "Epoch 4/10\n",
            "1563/1563 [==============================] - ETA: 0s - loss: 2.2363 - accuracy: 0.4526\n",
            "Epoch 00004: val_accuracy did not improve from 0.23830\n",
            "1563/1563 [==============================] - 296s 189ms/step - loss: 2.2363 - accuracy: 0.4526 - val_loss: 3.8385 - val_accuracy: 0.2315\n",
            "Epoch 5/10\n",
            "1563/1563 [==============================] - ETA: 0s - loss: 2.1499 - accuracy: 0.4708\n",
            "Epoch 00005: val_accuracy did not improve from 0.23830\n",
            "1563/1563 [==============================] - 298s 191ms/step - loss: 2.1499 - accuracy: 0.4708 - val_loss: 3.8454 - val_accuracy: 0.2325\n",
            "Epoch 6/10\n",
            "1563/1563 [==============================] - ETA: 0s - loss: 2.0544 - accuracy: 0.4888\n",
            "Epoch 00006: val_accuracy improved from 0.23830 to 0.24680, saving model to /content/gdrive/MyDrive/dlproject/training/21_30/model-06-0.247.hdf5\n",
            "1563/1563 [==============================] - 301s 193ms/step - loss: 2.0544 - accuracy: 0.4888 - val_loss: 3.8722 - val_accuracy: 0.2468\n",
            "Epoch 7/10\n",
            "1563/1563 [==============================] - ETA: 0s - loss: 1.9721 - accuracy: 0.5079\n",
            "Epoch 00007: val_accuracy did not improve from 0.24680\n",
            "1563/1563 [==============================] - 302s 193ms/step - loss: 1.9721 - accuracy: 0.5079 - val_loss: 3.9956 - val_accuracy: 0.2335\n",
            "Epoch 8/10\n",
            "1563/1563 [==============================] - ETA: 0s - loss: 1.8876 - accuracy: 0.5244\n",
            "Epoch 00008: val_accuracy did not improve from 0.24680\n",
            "1563/1563 [==============================] - 300s 192ms/step - loss: 1.8876 - accuracy: 0.5244 - val_loss: 4.0259 - val_accuracy: 0.2313\n",
            "Epoch 9/10\n",
            "1563/1563 [==============================] - ETA: 0s - loss: 1.8061 - accuracy: 0.5407\n",
            "Epoch 00009: val_accuracy did not improve from 0.24680\n",
            "1563/1563 [==============================] - 300s 192ms/step - loss: 1.8061 - accuracy: 0.5407 - val_loss: 4.1263 - val_accuracy: 0.2371\n",
            "Epoch 10/10\n",
            "1563/1563 [==============================] - ETA: 0s - loss: 1.7289 - accuracy: 0.5570\n",
            "Epoch 00010: val_accuracy did not improve from 0.24680\n",
            "1563/1563 [==============================] - 300s 192ms/step - loss: 1.7289 - accuracy: 0.5570 - val_loss: 4.1336 - val_accuracy: 0.2352\n",
            "INFO:tensorflow:Assets written to: ram://aa479d8e-652b-4363-962a-7b21171680ab/assets\n"
          ]
        }
      ]
    },
    {
      "cell_type": "markdown",
      "metadata": {
        "id": "hpLfY-Xa83a8"
      },
      "source": [
        "### Results after training the model for 30 epochs"
      ]
    },
    {
      "cell_type": "code",
      "metadata": {
        "colab": {
          "base_uri": "https://localhost:8080/"
        },
        "id": "gzspv5aI8fZN",
        "outputId": "91fe3260-6ffc-4255-bd3c-6eb4fccbcfa7"
      },
      "source": [
        "from google.colab import drive\n",
        "drive.mount('/content/gdrive')"
      ],
      "execution_count": null,
      "outputs": [
        {
          "output_type": "stream",
          "name": "stdout",
          "text": [
            "Mounted at /content/gdrive\n"
          ]
        }
      ]
    },
    {
      "cell_type": "code",
      "metadata": {
        "id": "WC76Quy-8ko4"
      },
      "source": [
        "# Importing models from google drive\n",
        "\n",
        "import pickle\n",
        "\n",
        "with open(\"/content/gdrive/MyDrive/dlproject/learningrate/history00001.pkl\",'rb') as file:\n",
        "  epoch0_10 = pickle.load(file)\n",
        "\n",
        "with open(\"/content/gdrive/MyDrive/dlproject/training/10_20/model10_20.pkl\",'rb') as file:\n",
        "  epoch11_20 = pickle.load(file)\n",
        "\n",
        "with open(\"/content/gdrive/MyDrive/dlproject/training/21_30/model21_30.pkl\",'rb') as file:\n",
        "  epoch21_30 = pickle.load(file)"
      ],
      "execution_count": null,
      "outputs": []
    },
    {
      "cell_type": "code",
      "metadata": {
        "id": "iZDNMQNh9sC9"
      },
      "source": [
        "val_loss0_10 = epoch0_10.history['val_loss']\n",
        "val_loss11_20 = epoch11_20.history['val_loss']\n",
        "val_loss21_30 = epoch21_30.history['val_loss']\n",
        "\n",
        "merged_val_loss = val_loss0_10 + val_loss11_20 + val_loss21_30\n",
        "\n",
        "val_accuracy0_10 = epoch0_10.history['val_accuracy']\n",
        "val_accuracy11_20 = epoch11_20.history['val_accuracy']\n",
        "val_accuracy21_30 = epoch21_30.history['val_accuracy']\n",
        "\n",
        "merged_val_accuracy = val_accuracy0_10 + val_accuracy11_20 + val_accuracy21_30"
      ],
      "execution_count": null,
      "outputs": []
    },
    {
      "cell_type": "code",
      "metadata": {
        "id": "fIjQ1k30-E0L"
      },
      "source": [
        "train_loss0_10 = epoch0_10.history['loss']\n",
        "train_loss11_20 = epoch11_20.history['loss']\n",
        "train_loss21_30 = epoch21_30.history['loss']\n",
        "\n",
        "merged_train_loss = train_loss0_10 + train_loss11_20 + train_loss21_30\n",
        "\n",
        "accuracy0_10 = epoch0_10.history['accuracy']\n",
        "accuracy11_20 = epoch11_20.history['accuracy']\n",
        "accuracy21_30 = epoch21_30.history['accuracy']\n",
        "\n",
        "merged_accuracy = accuracy0_10 + accuracy11_20 + accuracy21_30"
      ],
      "execution_count": null,
      "outputs": []
    },
    {
      "cell_type": "code",
      "metadata": {
        "colab": {
          "base_uri": "https://localhost:8080/",
          "height": 585
        },
        "id": "9ZQfOrgT-yPX",
        "outputId": "ecb6f631-9f17-49cd-b723-0dec2dff2275"
      },
      "source": [
        "import seaborn as sns\n",
        "import pandas as pd\n",
        "data = pd.DataFrame({'Training loss' : merged_train_loss, 'Validation loss': merged_val_loss}, index = range(0,30,1))\n",
        "# data\n",
        "sns.set(rc={'figure.figsize':(11.7,8.27)})\n",
        "sns.lineplot(data = data, palette='tab10',linewidth=2.5).set(xlabel = 'Epochs', ylabel = 'Loss',title = \" Training loss VS Validation loss\" )"
      ],
      "execution_count": null,
      "outputs": [
        {
          "output_type": "execute_result",
          "data": {
            "text/plain": [
              "[Text(0, 0.5, 'Loss'),\n",
              " Text(0.5, 0, 'Epochs'),\n",
              " Text(0.5, 1.0, ' Training loss VS Validation loss')]"
            ]
          },
          "metadata": {},
          "execution_count": 10
        },
        {
          "output_type": "display_data",
          "data": {
            "image/png": "[encoded data removed]",
            "text/plain": [
              "<Figure size 842.4x595.44 with 1 Axes>"
            ]
          },
          "metadata": {}
        }
      ]
    },
    {
      "cell_type": "code",
      "source": [
        "import seaborn as sns\n",
        "import pandas as pd\n",
        "data = pd.DataFrame({'Training Accuracy' : merged_accuracy, 'Validation accuracy': merged_val_accuracy}, index = range(0,30,1))\n",
        "# data\n",
        "sns.set(rc={'figure.figsize':(11.7,8.27)})\n",
        "sns.lineplot(data = data, palette='tab10',linewidth=2.5).set(xlabel = 'Epochs', ylabel = 'accuracy',title = \" Training Accuracy VS Validation Accuracy\" )"
      ],
      "metadata": {
        "colab": {
          "base_uri": "https://localhost:8080/",
          "height": 588
        },
        "id": "sgwo_-ILpToH",
        "outputId": "adf3fe49-ce31-4c5e-99f3-0e20e34aa265"
      },
      "execution_count": null,
      "outputs": [
        {
          "output_type": "execute_result",
          "data": {
            "text/plain": [
              "[Text(0, 0.5, 'accuracy'),\n",
              " Text(0.5, 0, 'Epochs'),\n",
              " Text(0.5, 1.0, ' Training Accuracy VS Validation Accuracy')]"
            ]
          },
          "metadata": {},
          "execution_count": 20
        },
        {
          "output_type": "display_data",
          "data": {
            "image/png": "[encoded data removed]",
            "text/plain": [
              "<Figure size 842.4x595.44 with 1 Axes>"
            ]
          },
          "metadata": {}
        }
      ]
    },
    {
      "cell_type": "markdown",
      "metadata": {
        "id": "nJ0_QqLS_V2P"
      },
      "source": [
        "#### We can observe that, starting from 15th epoch our model is getting overfitted. Lets try will lower learning rate"
      ]
    },
    {
      "cell_type": "markdown",
      "source": [
        "#### Training model with Adam optimizer with learning rate = 0.000001"
      ],
      "metadata": {
        "id": "ldeNiBPKZjUA"
      }
    },
    {
      "cell_type": "code",
      "source": [
        "from google.colab import drive\n",
        "drive.mount(\"/content/gdrive\")"
      ],
      "metadata": {
        "colab": {
          "base_uri": "https://localhost:8080/"
        },
        "id": "d80JP0zIub9f",
        "outputId": "09b1b068-3145-4e48-f9bb-8a1576c9b71a"
      },
      "execution_count": null,
      "outputs": [
        {
          "output_type": "stream",
          "name": "stdout",
          "text": [
            "Mounted at /content/gdrive\n"
          ]
        }
      ]
    },
    {
      "cell_type": "code",
      "metadata": {
        "id": "-7aiJSjJA4pw"
      },
      "source": [
        "# importing model trained for learning rate\n",
        "\n",
        "from tensorflow.keras.models import load_model\n",
        "\n",
        "model = load_model(\"/content/gdrive/MyDrive/dlproject/learningrate/vgg16_00001.h5\")"
      ],
      "execution_count": null,
      "outputs": []
    },
    {
      "cell_type": "code",
      "metadata": {
        "colab": {
          "base_uri": "https://localhost:8080/"
        },
        "id": "_KlIkGYZA4qB",
        "outputId": "d92f604c-040b-404c-de50-9f61772e828a"
      },
      "source": [
        "model.summary()"
      ],
      "execution_count": null,
      "outputs": [
        {
          "output_type": "stream",
          "name": "stdout",
          "text": [
            "Model: \"sequential_2\"\n",
            "_________________________________________________________________\n",
            " Layer (type)                Output Shape              Param #   \n",
            "=================================================================\n",
            " conv2d_20 (Conv2D)          (None, 64, 64, 64)        1792      \n",
            "                                                                 \n",
            " conv2d_21 (Conv2D)          (None, 64, 64, 64)        36928     \n",
            "                                                                 \n",
            " max_pooling2d_8 (MaxPooling  (None, 32, 32, 64)       0         \n",
            " 2D)                                                             \n",
            "                                                                 \n",
            " conv2d_22 (Conv2D)          (None, 32, 32, 128)       73856     \n",
            "                                                                 \n",
            " conv2d_23 (Conv2D)          (None, 32, 32, 128)       147584    \n",
            "                                                                 \n",
            " max_pooling2d_9 (MaxPooling  (None, 16, 16, 128)      0         \n",
            " 2D)                                                             \n",
            "                                                                 \n",
            " conv2d_24 (Conv2D)          (None, 16, 16, 256)       295168    \n",
            "                                                                 \n",
            " conv2d_25 (Conv2D)          (None, 16, 16, 256)       590080    \n",
            "                                                                 \n",
            " conv2d_26 (Conv2D)          (None, 16, 16, 256)       590080    \n",
            "                                                                 \n",
            " max_pooling2d_10 (MaxPoolin  (None, 8, 8, 256)        0         \n",
            " g2D)                                                            \n",
            "                                                                 \n",
            " conv2d_27 (Conv2D)          (None, 8, 8, 512)         1180160   \n",
            "                                                                 \n",
            " conv2d_28 (Conv2D)          (None, 8, 8, 512)         2359808   \n",
            "                                                                 \n",
            " conv2d_29 (Conv2D)          (None, 8, 8, 512)         2359808   \n",
            "                                                                 \n",
            " max_pooling2d_11 (MaxPoolin  (None, 4, 4, 512)        0         \n",
            " g2D)                                                            \n",
            "                                                                 \n",
            " flatten_2 (Flatten)         (None, 8192)              0         \n",
            "                                                                 \n",
            " dense_6 (Dense)             (None, 4096)              33558528  \n",
            "                                                                 \n",
            " dense_7 (Dense)             (None, 4096)              16781312  \n",
            "                                                                 \n",
            " dense_8 (Dense)             (None, 200)               819400    \n",
            "                                                                 \n",
            "=================================================================\n",
            "Total params: 58,794,504\n",
            "Trainable params: 58,794,504\n",
            "Non-trainable params: 0\n",
            "_________________________________________________________________\n"
          ]
        }
      ]
    },
    {
      "cell_type": "code",
      "source": [
        "# Removing complete directory\n",
        "# !rm -r \"/content/gdrive/MyDrive/dlproject/training1\""
      ],
      "metadata": {
        "id": "NiDgfmBF2Maw"
      },
      "execution_count": null,
      "outputs": []
    },
    {
      "cell_type": "code",
      "metadata": {
        "colab": {
          "base_uri": "https://localhost:8080/",
          "height": 991
        },
        "id": "S4BwhleFA4qC",
        "outputId": "4a60fdd5-4eba-470f-946b-b4abcdbc733b"
      },
      "source": [
        "# Training for 10 more epochs\n",
        "model.compile(loss = 'categorical_crossentropy',\n",
        "              metrics=['accuracy'],\n",
        "              optimizer= tf.keras.optimizers.Adam(learning_rate= 0.000001))\n",
        "\n",
        "\n",
        "checkpoint = ModelCheckpoint(\"/content/gdrive/MyDrive/dlproject/training1/11_20/model-{epoch:02d}-{val_accuracy:.3f}.hdf5\",\n",
        "                             monitor='val_accuracy',\n",
        "                             verbose=1,\n",
        "                             save_best_only=True,\n",
        "                             save_weights_only=False,\n",
        "                             mode='auto',\n",
        "                             period=1,\n",
        "                             )\n",
        "\n",
        "model11_20 = model.fit(train_it,batch_size=64,\n",
        "                validation_data= validation_it,\n",
        "                epochs=10,\n",
        "                verbose=1,\n",
        "                 callbacks=[checkpoint])\n",
        "\n",
        "# Open a file and use dump()\n",
        "with open('/content/gdrive/MyDrive/dlproject/training1/10_20/model11_20.pkl', 'wb') as file:\n",
        "      \n",
        "    # A new file will be created\n",
        "    pickle.dump(model11_20, file)"
      ],
      "execution_count": null,
      "outputs": [
        {
          "output_type": "stream",
          "name": "stdout",
          "text": [
            "WARNING:tensorflow:`period` argument is deprecated. Please use `save_freq` to specify the frequency in number of batches seen.\n",
            "Epoch 1/10\n",
            "1563/1563 [==============================] - ETA: 0s - loss: 3.2916 - accuracy: 0.2663\n",
            "Epoch 00001: val_accuracy improved from -inf to 0.20990, saving model to /content/gdrive/MyDrive/dlproject/training1/11_20/model-01-0.210.hdf5\n",
            "1563/1563 [==============================] - 313s 192ms/step - loss: 3.2916 - accuracy: 0.2663 - val_loss: 3.6879 - val_accuracy: 0.2099\n",
            "Epoch 2/10\n",
            "1563/1563 [==============================] - ETA: 0s - loss: 3.2497 - accuracy: 0.2753\n",
            "Epoch 00002: val_accuracy improved from 0.20990 to 0.21820, saving model to /content/gdrive/MyDrive/dlproject/training1/11_20/model-02-0.218.hdf5\n",
            "1563/1563 [==============================] - 301s 192ms/step - loss: 3.2497 - accuracy: 0.2753 - val_loss: 3.6631 - val_accuracy: 0.2182\n",
            "Epoch 3/10\n",
            "1563/1563 [==============================] - ETA: 0s - loss: 3.2231 - accuracy: 0.2782\n",
            "Epoch 00003: val_accuracy did not improve from 0.21820\n",
            "1563/1563 [==============================] - 297s 190ms/step - loss: 3.2231 - accuracy: 0.2782 - val_loss: 3.6645 - val_accuracy: 0.2133\n",
            "Epoch 4/10\n",
            "1563/1563 [==============================] - ETA: 0s - loss: 3.2051 - accuracy: 0.2839\n",
            "Epoch 00004: val_accuracy did not improve from 0.21820\n",
            "1563/1563 [==============================] - 295s 189ms/step - loss: 3.2051 - accuracy: 0.2839 - val_loss: 3.6532 - val_accuracy: 0.2157\n",
            "Epoch 5/10\n",
            "1563/1563 [==============================] - ETA: 0s - loss: 3.1874 - accuracy: 0.2858\n",
            "Epoch 00005: val_accuracy did not improve from 0.21820\n",
            "1563/1563 [==============================] - 295s 188ms/step - loss: 3.1874 - accuracy: 0.2858 - val_loss: 3.6558 - val_accuracy: 0.2177\n",
            "Epoch 6/10\n",
            "1563/1563 [==============================] - ETA: 0s - loss: 3.1694 - accuracy: 0.2882\n",
            "Epoch 00006: val_accuracy did not improve from 0.21820\n",
            "1563/1563 [==============================] - 293s 187ms/step - loss: 3.1694 - accuracy: 0.2882 - val_loss: 3.6729 - val_accuracy: 0.2171\n",
            "Epoch 7/10\n",
            "1563/1563 [==============================] - ETA: 0s - loss: 3.1553 - accuracy: 0.2919\n",
            "Epoch 00007: val_accuracy did not improve from 0.21820\n",
            "1563/1563 [==============================] - 291s 186ms/step - loss: 3.1553 - accuracy: 0.2919 - val_loss: 3.6594 - val_accuracy: 0.2177\n",
            "Epoch 8/10\n",
            "1563/1563 [==============================] - ETA: 0s - loss: 3.1378 - accuracy: 0.2951\n",
            "Epoch 00008: val_accuracy did not improve from 0.21820\n",
            "1563/1563 [==============================] - 291s 186ms/step - loss: 3.1378 - accuracy: 0.2951 - val_loss: 3.6487 - val_accuracy: 0.2156\n",
            "Epoch 9/10\n",
            "1563/1563 [==============================] - ETA: 0s - loss: 3.1221 - accuracy: 0.2981\n",
            "Epoch 00009: val_accuracy improved from 0.21820 to 0.22420, saving model to /content/gdrive/MyDrive/dlproject/training1/11_20/model-09-0.224.hdf5\n",
            "1563/1563 [==============================] - 296s 189ms/step - loss: 3.1221 - accuracy: 0.2981 - val_loss: 3.6448 - val_accuracy: 0.2242\n",
            "Epoch 10/10\n",
            "1563/1563 [==============================] - ETA: 0s - loss: 3.0996 - accuracy: 0.3012\n",
            "Epoch 00010: val_accuracy did not improve from 0.22420\n",
            "1563/1563 [==============================] - 292s 187ms/step - loss: 3.0996 - accuracy: 0.3012 - val_loss: 3.6414 - val_accuracy: 0.2215\n"
          ]
        },
        {
          "output_type": "error",
          "ename": "FileNotFoundError",
          "evalue": "ignored",
          "traceback": [
            "\u001b[0;31m---------------------------------------------------------------------------\u001b[0m",
            "\u001b[0;31mFileNotFoundError\u001b[0m                         Traceback (most recent call last)",
            "\u001b[0;32m<ipython-input-19-a308e83320e9>\u001b[0m in \u001b[0;36m<module>\u001b[0;34m()\u001b[0m\n\u001b[1;32m     21\u001b[0m \u001b[0;34m\u001b[0m\u001b[0m\n\u001b[1;32m     22\u001b[0m \u001b[0;31m# Open a file and use dump()\u001b[0m\u001b[0;34m\u001b[0m\u001b[0;34m\u001b[0m\u001b[0;34m\u001b[0m\u001b[0m\n\u001b[0;32m---> 23\u001b[0;31m \u001b[0;32mwith\u001b[0m \u001b[0mopen\u001b[0m\u001b[0;34m(\u001b[0m\u001b[0;34m'/content/gdrive/MyDrive/dlproject/training1/10_20/model11_20.pkl'\u001b[0m\u001b[0;34m,\u001b[0m \u001b[0;34m'wb'\u001b[0m\u001b[0;34m)\u001b[0m \u001b[0;32mas\u001b[0m \u001b[0mfile\u001b[0m\u001b[0;34m:\u001b[0m\u001b[0;34m\u001b[0m\u001b[0;34m\u001b[0m\u001b[0m\n\u001b[0m\u001b[1;32m     24\u001b[0m \u001b[0;34m\u001b[0m\u001b[0m\n\u001b[1;32m     25\u001b[0m     \u001b[0;31m# A new file will be created\u001b[0m\u001b[0;34m\u001b[0m\u001b[0;34m\u001b[0m\u001b[0;34m\u001b[0m\u001b[0m\n",
            "\u001b[0;31mFileNotFoundError\u001b[0m: [Errno 2] No such file or directory: '/content/gdrive/MyDrive/dlproject/training1/10_20/model11_20.pkl'"
          ]
        }
      ]
    },
    {
      "cell_type": "code",
      "source": [
        "model11_20\n",
        "# Open a file and use dump()\n",
        "with open('/content/gdrive/MyDrive/dlproject/training1/11_20/model11_20.pkl', 'wb') as file:\n",
        "      \n",
        "    # A new file will be created\n",
        "    pickle.dump(model11_20, file)"
      ],
      "metadata": {
        "colab": {
          "base_uri": "https://localhost:8080/"
        },
        "id": "GUXNvvH4CHBT",
        "outputId": "6dffd2e8-5cc3-4927-cb79-07e300266457"
      },
      "execution_count": null,
      "outputs": [
        {
          "output_type": "stream",
          "name": "stdout",
          "text": [
            "INFO:tensorflow:Assets written to: ram://3d70644a-ee4d-4e2f-a05d-ea269fcd25f9/assets\n"
          ]
        }
      ]
    },
    {
      "cell_type": "markdown",
      "source": [
        "#### Results"
      ],
      "metadata": {
        "id": "IPewU1v4Z2aS"
      }
    },
    {
      "cell_type": "code",
      "metadata": {
        "id": "zwFyuHHLFSbQ"
      },
      "source": [
        "import pickle\n",
        "\n",
        "with open(\"/content/gdrive/MyDrive/dlproject/learningrate/history00001.pkl\",'rb') as file:\n",
        "  epoch0_10 = pickle.load(file)\n",
        "\n",
        "with open(\"/content/gdrive/MyDrive/dlproject/training1/11_20/model11_20.pkl\",'rb') as file:\n",
        "  epoch11_20 = pickle.load(file)\n",
        "\n",
        "# with open(\"/content/gdrive/MyDrive/dlproject/training/21_30/model21_30.pkl\",'rb') as file:\n",
        "#   epoch21_30 = pickle.load(file)"
      ],
      "execution_count": null,
      "outputs": []
    },
    {
      "cell_type": "code",
      "metadata": {
        "id": "o6KKNB4oFSbR"
      },
      "source": [
        "val_loss0_10 = epoch0_10.history['val_loss']\n",
        "val_loss11_20 = epoch11_20.history['val_loss']\n",
        "# val_loss21_30 = epoch21_30.history['val_loss']/\n",
        "\n",
        "merged_val_loss = val_loss0_10 + val_loss11_20\n",
        "\n",
        "val_accuracy0_10 = epoch0_10.history['val_accuracy']\n",
        "val_accuracy11_20 = epoch11_20.history['val_accuracy']\n",
        "# val_accuracy21_30 = epoch21_30.history['val_accuracy']/\n",
        "\n",
        "merged_val_accuracy = val_accuracy0_10 + val_accuracy11_20"
      ],
      "execution_count": null,
      "outputs": []
    },
    {
      "cell_type": "code",
      "metadata": {
        "id": "OttbniZ2FSbS"
      },
      "source": [
        ""
      ],
      "execution_count": null,
      "outputs": []
    },
    {
      "cell_type": "code",
      "metadata": {
        "id": "rLY2_hr1FSbS"
      },
      "source": [
        "train_loss0_10 = epoch0_10.history['loss']\n",
        "train_loss11_20 = epoch11_20.history['loss']\n",
        "# train_loss21_30 = epoch21_30.history['loss']\n",
        "\n",
        "merged_train_loss = train_loss0_10 + train_loss11_20\n",
        "\n",
        "train_accuracy0_10 = epoch0_10.history['accuracy']\n",
        "train_accuracy11_20 = epoch11_20.history['accuracy']\n",
        "# train_accuracy21_30 = epoch21_30.history['accuracy']\n",
        "\n",
        "merged_train_accuracy = train_accuracy0_10 + train_accuracy11_20"
      ],
      "execution_count": null,
      "outputs": []
    },
    {
      "cell_type": "code",
      "metadata": {
        "colab": {
          "base_uri": "https://localhost:8080/",
          "height": 588
        },
        "outputId": "35c1cc37-2794-4c75-d53d-5290db30d320",
        "id": "aC2r2P39FSbT"
      },
      "source": [
        "import seaborn as sns\n",
        "import pandas as pd\n",
        "data = pd.DataFrame({'Training loss' : merged_train_loss, 'Validation loss': merged_val_loss}, index = range(0,20,1))\n",
        "# data\n",
        "sns.set(rc={'figure.figsize':(11.7,8.27)})\n",
        "sns.lineplot(data = data, palette='tab10',linewidth=2.5).set(xlabel = 'Epochs', ylabel = 'Loss',title = \" Training loss VS Validation loss\" )"
      ],
      "execution_count": null,
      "outputs": [
        {
          "output_type": "execute_result",
          "data": {
            "text/plain": [
              "[Text(0, 0.5, 'Loss'),\n",
              " Text(0.5, 0, 'Epochs'),\n",
              " Text(0.5, 1.0, ' Training loss VS Validation loss')]"
            ]
          },
          "metadata": {},
          "execution_count": 25
        },
        {
          "output_type": "display_data",
          "data": {
            "image/png": "[encoded data removed]",
            "text/plain": [
              "<Figure size 842.4x595.44 with 1 Axes>"
            ]
          },
          "metadata": {}
        }
      ]
    },
    {
      "cell_type": "code",
      "source": [
        "import seaborn as sns\n",
        "import pandas as pd\n",
        "data = pd.DataFrame({'Training accuracy' : merged_train_accuracy, 'Validation accuracy': merged_val_accuracy}, index = range(0,20,1))\n",
        "# data\n",
        "sns.set(rc={'figure.figsize':(11.7,8.27)})\n",
        "sns.lineplot(data = data, palette='tab10',linewidth=2.5).set(xlabel = 'Epochs', ylabel = 'Accuracy',title = \" Training accuracy VS Validation accuracy\" )"
      ],
      "metadata": {
        "colab": {
          "base_uri": "https://localhost:8080/",
          "height": 588
        },
        "id": "xQzS3DiqqZsg",
        "outputId": "a0ccd445-8bbf-4c12-a059-a3f9fa0bc3da"
      },
      "execution_count": null,
      "outputs": [
        {
          "output_type": "execute_result",
          "data": {
            "text/plain": [
              "[Text(0, 0.5, 'Accuracy'),\n",
              " Text(0.5, 0, 'Epochs'),\n",
              " Text(0.5, 1.0, ' Training accuracy VS Validation accuracy')]"
            ]
          },
          "metadata": {},
          "execution_count": 26
        },
        {
          "output_type": "display_data",
          "data": {
            "image/png": "[encoded data removed]",
            "text/plain": [
              "<Figure size 842.4x595.44 with 1 Axes>"
            ]
          },
          "metadata": {}
        }
      ]
    },
    {
      "cell_type": "code",
      "source": [
        ""
      ],
      "metadata": {
        "id": "cXAproE5Tk7q"
      },
      "execution_count": null,
      "outputs": []
    },
    {
      "cell_type": "markdown",
      "source": [
        "#### Training model for total of 70 Epochs"
      ],
      "metadata": {
        "id": "56f1QakiaMMx"
      }
    },
    {
      "cell_type": "code",
      "source": [
        "from google.colab import drive\n",
        "drive.mount(\"/content/gdrive\")"
      ],
      "metadata": {
        "colab": {
          "base_uri": "https://localhost:8080/"
        },
        "outputId": "6792705c-e456-4ae9-d546-7836e1c7de0a",
        "id": "ZwDICOEDTrjM"
      },
      "execution_count": null,
      "outputs": [
        {
          "output_type": "stream",
          "name": "stdout",
          "text": [
            "Drive already mounted at /content/gdrive; to attempt to forcibly remount, call drive.mount(\"/content/gdrive\", force_remount=True).\n"
          ]
        }
      ]
    },
    {
      "cell_type": "code",
      "metadata": {
        "id": "tFTrwf4OTrjO"
      },
      "source": [
        "# importing model trained for learning rate\n",
        "\n",
        "from tensorflow.keras.models import load_model\n",
        "\n",
        "model = load_model(\"/content/gdrive/MyDrive/dlproject/training1/11_20/model-09-0.224.hdf5\")"
      ],
      "execution_count": null,
      "outputs": []
    },
    {
      "cell_type": "code",
      "metadata": {
        "colab": {
          "base_uri": "https://localhost:8080/"
        },
        "outputId": "ef5a529d-e99d-495a-98ea-25bd9b88960b",
        "id": "QdoQ5-GLTrjO"
      },
      "source": [
        "model.summary()"
      ],
      "execution_count": null,
      "outputs": [
        {
          "output_type": "stream",
          "name": "stdout",
          "text": [
            "Model: \"sequential_2\"\n",
            "_________________________________________________________________\n",
            " Layer (type)                Output Shape              Param #   \n",
            "=================================================================\n",
            " conv2d_20 (Conv2D)          (None, 64, 64, 64)        1792      \n",
            "                                                                 \n",
            " conv2d_21 (Conv2D)          (None, 64, 64, 64)        36928     \n",
            "                                                                 \n",
            " max_pooling2d_8 (MaxPooling  (None, 32, 32, 64)       0         \n",
            " 2D)                                                             \n",
            "                                                                 \n",
            " conv2d_22 (Conv2D)          (None, 32, 32, 128)       73856     \n",
            "                                                                 \n",
            " conv2d_23 (Conv2D)          (None, 32, 32, 128)       147584    \n",
            "                                                                 \n",
            " max_pooling2d_9 (MaxPooling  (None, 16, 16, 128)      0         \n",
            " 2D)                                                             \n",
            "                                                                 \n",
            " conv2d_24 (Conv2D)          (None, 16, 16, 256)       295168    \n",
            "                                                                 \n",
            " conv2d_25 (Conv2D)          (None, 16, 16, 256)       590080    \n",
            "                                                                 \n",
            " conv2d_26 (Conv2D)          (None, 16, 16, 256)       590080    \n",
            "                                                                 \n",
            " max_pooling2d_10 (MaxPoolin  (None, 8, 8, 256)        0         \n",
            " g2D)                                                            \n",
            "                                                                 \n",
            " conv2d_27 (Conv2D)          (None, 8, 8, 512)         1180160   \n",
            "                                                                 \n",
            " conv2d_28 (Conv2D)          (None, 8, 8, 512)         2359808   \n",
            "                                                                 \n",
            " conv2d_29 (Conv2D)          (None, 8, 8, 512)         2359808   \n",
            "                                                                 \n",
            " max_pooling2d_11 (MaxPoolin  (None, 4, 4, 512)        0         \n",
            " g2D)                                                            \n",
            "                                                                 \n",
            " flatten_2 (Flatten)         (None, 8192)              0         \n",
            "                                                                 \n",
            " dense_6 (Dense)             (None, 4096)              33558528  \n",
            "                                                                 \n",
            " dense_7 (Dense)             (None, 4096)              16781312  \n",
            "                                                                 \n",
            " dense_8 (Dense)             (None, 200)               819400    \n",
            "                                                                 \n",
            "=================================================================\n",
            "Total params: 58,794,504\n",
            "Trainable params: 58,794,504\n",
            "Non-trainable params: 0\n",
            "_________________________________________________________________\n"
          ]
        }
      ]
    },
    {
      "cell_type": "code",
      "metadata": {
        "colab": {
          "base_uri": "https://localhost:8080/",
          "height": 991
        },
        "outputId": "9f1dceb5-238a-4908-8b0b-cd0104a773bf",
        "id": "FUvc944oTrjO"
      },
      "source": [
        "# Training for 10 more epochs\n",
        "model.compile(loss = 'categorical_crossentropy',\n",
        "              metrics=['accuracy'],\n",
        "              optimizer= tf.keras.optimizers.Adam(learning_rate= 0.000001))\n",
        "\n",
        "\n",
        "checkpoint = ModelCheckpoint(\"/content/gdrive/MyDrive/dlproject/training1/21_30/model-{epoch:02d}-{val_accuracy:.3f}.hdf5\",\n",
        "                             monitor='val_accuracy',\n",
        "                             verbose=1,\n",
        "                             save_best_only=True,\n",
        "                             save_weights_only=False,\n",
        "                             mode='auto',\n",
        "                             period=1,\n",
        "                             )\n",
        "\n",
        "model21_30 = model.fit(train_it,batch_size=64,\n",
        "                validation_data= validation_it,\n",
        "                epochs=10,\n",
        "                verbose=1,\n",
        "                 callbacks=[checkpoint])\n",
        "\n",
        "# Open a file and use dump()\n",
        "with open('/content/gdrive/MyDrive/dlproject/training1/21_30/model21_30.pkl', 'wb') as file:\n",
        "      \n",
        "    # A new file will be created\n",
        "    pickle.dump(model21_30, file)"
      ],
      "execution_count": null,
      "outputs": [
        {
          "output_type": "stream",
          "name": "stdout",
          "text": [
            "WARNING:tensorflow:`period` argument is deprecated. Please use `save_freq` to specify the frequency in number of batches seen.\n",
            "Epoch 1/10\n",
            "1563/1563 [==============================] - ETA: 0s - loss: 3.1780 - accuracy: 0.2870\n",
            "Epoch 00001: val_accuracy improved from -inf to 0.21310, saving model to /content/gdrive/MyDrive/dlproject/training1/21_30/model-01-0.213.hdf5\n",
            "1563/1563 [==============================] - 308s 189ms/step - loss: 3.1780 - accuracy: 0.2870 - val_loss: 3.6976 - val_accuracy: 0.2131\n",
            "Epoch 2/10\n",
            "1563/1563 [==============================] - ETA: 0s - loss: 3.1593 - accuracy: 0.2880\n",
            "Epoch 00002: val_accuracy improved from 0.21310 to 0.21550, saving model to /content/gdrive/MyDrive/dlproject/training1/21_30/model-02-0.215.hdf5\n",
            "1563/1563 [==============================] - 298s 190ms/step - loss: 3.1593 - accuracy: 0.2880 - val_loss: 3.6822 - val_accuracy: 0.2155\n",
            "Epoch 3/10\n",
            "1563/1563 [==============================] - ETA: 0s - loss: 3.1513 - accuracy: 0.2889\n",
            "Epoch 00003: val_accuracy did not improve from 0.21550\n",
            "1563/1563 [==============================] - 292s 186ms/step - loss: 3.1513 - accuracy: 0.2889 - val_loss: 3.6737 - val_accuracy: 0.2119\n",
            "Epoch 4/10\n",
            "1563/1563 [==============================] - ETA: 0s - loss: 3.1357 - accuracy: 0.2944\n",
            "Epoch 00004: val_accuracy improved from 0.21550 to 0.22090, saving model to /content/gdrive/MyDrive/dlproject/training1/21_30/model-04-0.221.hdf5\n",
            "1563/1563 [==============================] - 289s 185ms/step - loss: 3.1357 - accuracy: 0.2944 - val_loss: 3.6656 - val_accuracy: 0.2209\n",
            "Epoch 5/10\n",
            "1563/1563 [==============================] - ETA: 0s - loss: 3.1207 - accuracy: 0.2964\n",
            "Epoch 00005: val_accuracy did not improve from 0.22090\n",
            "1563/1563 [==============================] - 286s 183ms/step - loss: 3.1207 - accuracy: 0.2964 - val_loss: 3.6561 - val_accuracy: 0.2193\n",
            "Epoch 6/10\n",
            "1563/1563 [==============================] - ETA: 0s - loss: 3.1121 - accuracy: 0.2982\n",
            "Epoch 00006: val_accuracy did not improve from 0.22090\n",
            "1563/1563 [==============================] - 286s 183ms/step - loss: 3.1121 - accuracy: 0.2982 - val_loss: 3.6828 - val_accuracy: 0.2185\n",
            "Epoch 7/10\n",
            "1563/1563 [==============================] - ETA: 0s - loss: 3.0998 - accuracy: 0.2990\n",
            "Epoch 00007: val_accuracy did not improve from 0.22090\n",
            "1563/1563 [==============================] - 285s 183ms/step - loss: 3.0998 - accuracy: 0.2990 - val_loss: 3.6733 - val_accuracy: 0.2181\n",
            "Epoch 8/10\n",
            "1563/1563 [==============================] - ETA: 0s - loss: 3.0850 - accuracy: 0.3021\n",
            "Epoch 00008: val_accuracy improved from 0.22090 to 0.22270, saving model to /content/gdrive/MyDrive/dlproject/training1/21_30/model-08-0.223.hdf5\n",
            "1563/1563 [==============================] - 290s 185ms/step - loss: 3.0850 - accuracy: 0.3021 - val_loss: 3.6540 - val_accuracy: 0.2227\n",
            "Epoch 9/10\n",
            "1563/1563 [==============================] - ETA: 0s - loss: 3.0772 - accuracy: 0.3053\n",
            "Epoch 00009: val_accuracy did not improve from 0.22270\n",
            "1563/1563 [==============================] - 289s 185ms/step - loss: 3.0772 - accuracy: 0.3053 - val_loss: 3.6553 - val_accuracy: 0.2223\n",
            "Epoch 10/10\n",
            "1563/1563 [==============================] - ETA: 0s - loss: 3.0603 - accuracy: 0.3056\n",
            "Epoch 00010: val_accuracy improved from 0.22270 to 0.22280, saving model to /content/gdrive/MyDrive/dlproject/training1/21_30/model-10-0.223.hdf5\n",
            "1563/1563 [==============================] - 290s 185ms/step - loss: 3.0603 - accuracy: 0.3056 - val_loss: 3.6616 - val_accuracy: 0.2228\n"
          ]
        },
        {
          "output_type": "error",
          "ename": "FileNotFoundError",
          "evalue": "ignored",
          "traceback": [
            "\u001b[0;31m---------------------------------------------------------------------------\u001b[0m",
            "\u001b[0;31mFileNotFoundError\u001b[0m                         Traceback (most recent call last)",
            "\u001b[0;32m<ipython-input-16-c16d27aa76c7>\u001b[0m in \u001b[0;36m<module>\u001b[0;34m()\u001b[0m\n\u001b[1;32m     21\u001b[0m \u001b[0;34m\u001b[0m\u001b[0m\n\u001b[1;32m     22\u001b[0m \u001b[0;31m# Open a file and use dump()\u001b[0m\u001b[0;34m\u001b[0m\u001b[0;34m\u001b[0m\u001b[0;34m\u001b[0m\u001b[0m\n\u001b[0;32m---> 23\u001b[0;31m \u001b[0;32mwith\u001b[0m \u001b[0mopen\u001b[0m\u001b[0;34m(\u001b[0m\u001b[0;34m'/content/gdrive/MyDrive/dlproject/training1/10_20/model21_30.pkl'\u001b[0m\u001b[0;34m,\u001b[0m \u001b[0;34m'wb'\u001b[0m\u001b[0;34m)\u001b[0m \u001b[0;32mas\u001b[0m \u001b[0mfile\u001b[0m\u001b[0;34m:\u001b[0m\u001b[0;34m\u001b[0m\u001b[0;34m\u001b[0m\u001b[0m\n\u001b[0m\u001b[1;32m     24\u001b[0m \u001b[0;34m\u001b[0m\u001b[0m\n\u001b[1;32m     25\u001b[0m     \u001b[0;31m# A new file will be created\u001b[0m\u001b[0;34m\u001b[0m\u001b[0;34m\u001b[0m\u001b[0;34m\u001b[0m\u001b[0m\n",
            "\u001b[0;31mFileNotFoundError\u001b[0m: [Errno 2] No such file or directory: '/content/gdrive/MyDrive/dlproject/training1/10_20/model21_30.pkl'"
          ]
        }
      ]
    },
    {
      "cell_type": "code",
      "source": [
        "model21_30\n",
        "# Open a file and use dump()\n",
        "with open('/content/gdrive/MyDrive/dlproject/training1/21_30/model21_30.pkl', 'wb') as file:\n",
        "      \n",
        "    # A new file will be created\n",
        "    pickle.dump(model21_30, file)"
      ],
      "metadata": {
        "colab": {
          "base_uri": "https://localhost:8080/"
        },
        "id": "EsnGsOx5TkoY",
        "outputId": "48cda79a-0eb2-4c9b-9f19-7ad2cbea1f64"
      },
      "execution_count": null,
      "outputs": [
        {
          "output_type": "stream",
          "name": "stdout",
          "text": [
            "INFO:tensorflow:Assets written to: ram://a77d4901-1485-4ae3-9f75-1f9015829343/assets\n"
          ]
        }
      ]
    },
    {
      "cell_type": "code",
      "source": [
        ""
      ],
      "metadata": {
        "id": "cMcHcH6jxbiI"
      },
      "execution_count": null,
      "outputs": []
    },
    {
      "cell_type": "code",
      "source": [
        "from google.colab import drive\n",
        "drive.mount(\"/content/gdrive\")"
      ],
      "metadata": {
        "colab": {
          "base_uri": "https://localhost:8080/"
        },
        "outputId": "6792705c-e456-4ae9-d546-7836e1c7de0a",
        "id": "0gYQYArFxcRY"
      },
      "execution_count": null,
      "outputs": [
        {
          "output_type": "stream",
          "name": "stdout",
          "text": [
            "Drive already mounted at /content/gdrive; to attempt to forcibly remount, call drive.mount(\"/content/gdrive\", force_remount=True).\n"
          ]
        }
      ]
    },
    {
      "cell_type": "code",
      "metadata": {
        "id": "aIjirLgVxcRY"
      },
      "source": [
        "# importing model trained for learning rate\n",
        "\n",
        "from tensorflow.keras.models import load_model\n",
        "\n",
        "model = load_model(\"/content/gdrive/MyDrive/dlproject/training1/21_30/model-10-0.223.hdf5\")"
      ],
      "execution_count": null,
      "outputs": []
    },
    {
      "cell_type": "code",
      "metadata": {
        "colab": {
          "base_uri": "https://localhost:8080/"
        },
        "outputId": "6bf3804c-e523-4fa9-c392-fd6e4776b5f7",
        "id": "QpDD3zeuxcRZ"
      },
      "source": [
        "model.summary()"
      ],
      "execution_count": null,
      "outputs": [
        {
          "output_type": "stream",
          "name": "stdout",
          "text": [
            "Model: \"sequential_2\"\n",
            "_________________________________________________________________\n",
            " Layer (type)                Output Shape              Param #   \n",
            "=================================================================\n",
            " conv2d_20 (Conv2D)          (None, 64, 64, 64)        1792      \n",
            "                                                                 \n",
            " conv2d_21 (Conv2D)          (None, 64, 64, 64)        36928     \n",
            "                                                                 \n",
            " max_pooling2d_8 (MaxPooling  (None, 32, 32, 64)       0         \n",
            " 2D)                                                             \n",
            "                                                                 \n",
            " conv2d_22 (Conv2D)          (None, 32, 32, 128)       73856     \n",
            "                                                                 \n",
            " conv2d_23 (Conv2D)          (None, 32, 32, 128)       147584    \n",
            "                                                                 \n",
            " max_pooling2d_9 (MaxPooling  (None, 16, 16, 128)      0         \n",
            " 2D)                                                             \n",
            "                                                                 \n",
            " conv2d_24 (Conv2D)          (None, 16, 16, 256)       295168    \n",
            "                                                                 \n",
            " conv2d_25 (Conv2D)          (None, 16, 16, 256)       590080    \n",
            "                                                                 \n",
            " conv2d_26 (Conv2D)          (None, 16, 16, 256)       590080    \n",
            "                                                                 \n",
            " max_pooling2d_10 (MaxPoolin  (None, 8, 8, 256)        0         \n",
            " g2D)                                                            \n",
            "                                                                 \n",
            " conv2d_27 (Conv2D)          (None, 8, 8, 512)         1180160   \n",
            "                                                                 \n",
            " conv2d_28 (Conv2D)          (None, 8, 8, 512)         2359808   \n",
            "                                                                 \n",
            " conv2d_29 (Conv2D)          (None, 8, 8, 512)         2359808   \n",
            "                                                                 \n",
            " max_pooling2d_11 (MaxPoolin  (None, 4, 4, 512)        0         \n",
            " g2D)                                                            \n",
            "                                                                 \n",
            " flatten_2 (Flatten)         (None, 8192)              0         \n",
            "                                                                 \n",
            " dense_6 (Dense)             (None, 4096)              33558528  \n",
            "                                                                 \n",
            " dense_7 (Dense)             (None, 4096)              16781312  \n",
            "                                                                 \n",
            " dense_8 (Dense)             (None, 200)               819400    \n",
            "                                                                 \n",
            "=================================================================\n",
            "Total params: 58,794,504\n",
            "Trainable params: 58,794,504\n",
            "Non-trainable params: 0\n",
            "_________________________________________________________________\n"
          ]
        }
      ]
    },
    {
      "cell_type": "code",
      "metadata": {
        "colab": {
          "base_uri": "https://localhost:8080/"
        },
        "outputId": "14238d49-c12f-4648-f772-f0da8290caac",
        "id": "g_cdOKTExcRZ"
      },
      "source": [
        "# Training for 10 more epochs\n",
        "model.compile(loss = 'categorical_crossentropy',\n",
        "              metrics=['accuracy'],\n",
        "              optimizer= tf.keras.optimizers.Adam(learning_rate= 0.000001))\n",
        "\n",
        "\n",
        "checkpoint = ModelCheckpoint(\"/content/gdrive/MyDrive/dlproject/training1/31_40/model-{epoch:02d}-{val_accuracy:.3f}.hdf5\",\n",
        "                             monitor='val_accuracy',\n",
        "                             verbose=1,\n",
        "                             save_best_only=True,\n",
        "                             save_weights_only=False,\n",
        "                             mode='auto',\n",
        "                             period=1,\n",
        "                             )\n",
        "\n",
        "model31_40 = model.fit(train_it,batch_size=64,\n",
        "                validation_data= validation_it,\n",
        "                epochs=10,\n",
        "                verbose=1,\n",
        "                 callbacks=[checkpoint])\n",
        "\n",
        "# Open a file and use dump()\n",
        "with open('/content/gdrive/MyDrive/dlproject/training1/31_40/model31_40.pkl', 'wb') as file:\n",
        "      \n",
        "    # A new file will be created\n",
        "    pickle.dump(model31_40, file)"
      ],
      "execution_count": null,
      "outputs": [
        {
          "output_type": "stream",
          "name": "stdout",
          "text": [
            "WARNING:tensorflow:`period` argument is deprecated. Please use `save_freq` to specify the frequency in number of batches seen.\n",
            "Epoch 1/10\n",
            "1563/1563 [==============================] - ETA: 0s - loss: 3.0477 - accuracy: 0.3089\n",
            "Epoch 00001: val_accuracy improved from -inf to 0.21980, saving model to /content/gdrive/MyDrive/dlproject/training1/31_40/model-01-0.220.hdf5\n",
            "1563/1563 [==============================] - 306s 188ms/step - loss: 3.0477 - accuracy: 0.3089 - val_loss: 3.6731 - val_accuracy: 0.2198\n",
            "Epoch 2/10\n",
            "1563/1563 [==============================] - ETA: 0s - loss: 3.0362 - accuracy: 0.3096\n",
            "Epoch 00002: val_accuracy improved from 0.21980 to 0.22410, saving model to /content/gdrive/MyDrive/dlproject/training1/31_40/model-02-0.224.hdf5\n",
            "1563/1563 [==============================] - 298s 190ms/step - loss: 3.0362 - accuracy: 0.3096 - val_loss: 3.6722 - val_accuracy: 0.2241\n",
            "Epoch 3/10\n",
            "1563/1563 [==============================] - ETA: 0s - loss: 3.0289 - accuracy: 0.3124\n",
            "Epoch 00003: val_accuracy did not improve from 0.22410\n",
            "1563/1563 [==============================] - 286s 183ms/step - loss: 3.0289 - accuracy: 0.3124 - val_loss: 3.6599 - val_accuracy: 0.2180\n",
            "Epoch 4/10\n",
            "1563/1563 [==============================] - ETA: 0s - loss: 3.0158 - accuracy: 0.3135\n",
            "Epoch 00004: val_accuracy did not improve from 0.22410\n",
            "1563/1563 [==============================] - 285s 182ms/step - loss: 3.0158 - accuracy: 0.3135 - val_loss: 3.6551 - val_accuracy: 0.2202\n",
            "Epoch 5/10\n",
            "1563/1563 [==============================] - ETA: 0s - loss: 3.0032 - accuracy: 0.3169\n",
            "Epoch 00005: val_accuracy did not improve from 0.22410\n",
            "1563/1563 [==============================] - 285s 182ms/step - loss: 3.0032 - accuracy: 0.3169 - val_loss: 3.6573 - val_accuracy: 0.2218\n",
            "Epoch 6/10\n",
            "1563/1563 [==============================] - ETA: 0s - loss: 2.9868 - accuracy: 0.3181\n",
            "Epoch 00006: val_accuracy did not improve from 0.22410\n",
            "1563/1563 [==============================] - 285s 182ms/step - loss: 2.9868 - accuracy: 0.3181 - val_loss: 3.6813 - val_accuracy: 0.2219\n",
            "Epoch 7/10\n",
            "1563/1563 [==============================] - ETA: 0s - loss: 2.9751 - accuracy: 0.3212\n",
            "Epoch 00007: val_accuracy did not improve from 0.22410\n",
            "1563/1563 [==============================] - 285s 182ms/step - loss: 2.9751 - accuracy: 0.3212 - val_loss: 3.6671 - val_accuracy: 0.2216\n",
            "Epoch 8/10\n",
            "1563/1563 [==============================] - ETA: 0s - loss: 2.9685 - accuracy: 0.3230\n",
            "Epoch 00008: val_accuracy improved from 0.22410 to 0.22700, saving model to /content/gdrive/MyDrive/dlproject/training1/31_40/model-08-0.227.hdf5\n",
            "1563/1563 [==============================] - 288s 184ms/step - loss: 2.9685 - accuracy: 0.3230 - val_loss: 3.6581 - val_accuracy: 0.2270\n",
            "Epoch 9/10\n",
            "1563/1563 [==============================] - ETA: 0s - loss: 2.9510 - accuracy: 0.3266\n",
            "Epoch 00009: val_accuracy improved from 0.22700 to 0.22830, saving model to /content/gdrive/MyDrive/dlproject/training1/31_40/model-09-0.228.hdf5\n",
            "1563/1563 [==============================] - 291s 186ms/step - loss: 2.9510 - accuracy: 0.3266 - val_loss: 3.6552 - val_accuracy: 0.2283\n",
            "Epoch 10/10\n",
            "1563/1563 [==============================] - ETA: 0s - loss: 2.9437 - accuracy: 0.3265\n",
            "Epoch 00010: val_accuracy did not improve from 0.22830\n",
            "1563/1563 [==============================] - 287s 184ms/step - loss: 2.9437 - accuracy: 0.3265 - val_loss: 3.6590 - val_accuracy: 0.2275\n",
            "INFO:tensorflow:Assets written to: ram://7f759ce9-ae1e-4522-a3c2-dd2b9e7d01f9/assets\n"
          ]
        }
      ]
    },
    {
      "cell_type": "code",
      "source": [
        ""
      ],
      "metadata": {
        "id": "ZXjleeYu9iNF"
      },
      "execution_count": null,
      "outputs": []
    },
    {
      "cell_type": "code",
      "source": [
        "# Training for 10 more epochs\n",
        "model.compile(loss = 'categorical_crossentropy',\n",
        "              metrics=['accuracy'],\n",
        "              optimizer= tf.keras.optimizers.Adam(learning_rate= 0.000001))\n",
        "\n",
        "\n",
        "checkpoint = ModelCheckpoint(\"/content/gdrive/MyDrive/dlproject/training1/41_50/model-{epoch:02d}-{val_accuracy:.3f}.hdf5\",\n",
        "                             monitor='val_accuracy',\n",
        "                             verbose=1,\n",
        "                             save_best_only=True,\n",
        "                             save_weights_only=False,\n",
        "                             mode='auto',\n",
        "                             period=1,\n",
        "                             )\n",
        "\n",
        "model41_50 = model.fit(train_it,batch_size=64,\n",
        "                validation_data= validation_it,\n",
        "                epochs=10,\n",
        "                verbose=1,\n",
        "                 callbacks=[checkpoint])\n",
        "\n",
        "# Open a file and use dump()\n",
        "with open('/content/gdrive/MyDrive/dlproject/training1/41_50/model41_50.pkl', 'wb') as file:\n",
        "      \n",
        "    # A new file will be created\n",
        "    pickle.dump(model41_50, file)"
      ],
      "metadata": {
        "colab": {
          "base_uri": "https://localhost:8080/"
        },
        "id": "haQp2csr9oXu",
        "outputId": "a553c692-c5ab-4593-fe24-666a696539dd"
      },
      "execution_count": null,
      "outputs": [
        {
          "output_type": "stream",
          "name": "stdout",
          "text": [
            "WARNING:tensorflow:`period` argument is deprecated. Please use `save_freq` to specify the frequency in number of batches seen.\n",
            "Epoch 1/10\n",
            "1563/1563 [==============================] - ETA: 0s - loss: 2.9354 - accuracy: 0.3273\n",
            "Epoch 00001: val_accuracy improved from -inf to 0.22230, saving model to /content/gdrive/MyDrive/dlproject/training1/41_50/model-01-0.222.hdf5\n",
            "1563/1563 [==============================] - 291s 185ms/step - loss: 2.9354 - accuracy: 0.3273 - val_loss: 3.6869 - val_accuracy: 0.2223\n",
            "Epoch 2/10\n",
            "1563/1563 [==============================] - ETA: 0s - loss: 2.9190 - accuracy: 0.3299\n",
            "Epoch 00002: val_accuracy improved from 0.22230 to 0.22630, saving model to /content/gdrive/MyDrive/dlproject/training1/41_50/model-02-0.226.hdf5\n",
            "1563/1563 [==============================] - 291s 186ms/step - loss: 2.9190 - accuracy: 0.3299 - val_loss: 3.6815 - val_accuracy: 0.2263\n",
            "Epoch 3/10\n",
            "1563/1563 [==============================] - ETA: 0s - loss: 2.9134 - accuracy: 0.3316\n",
            "Epoch 00003: val_accuracy improved from 0.22630 to 0.22990, saving model to /content/gdrive/MyDrive/dlproject/training1/41_50/model-03-0.230.hdf5\n",
            "1563/1563 [==============================] - 290s 186ms/step - loss: 2.9134 - accuracy: 0.3316 - val_loss: 3.6556 - val_accuracy: 0.2299\n",
            "Epoch 4/10\n",
            "1563/1563 [==============================] - ETA: 0s - loss: 2.9001 - accuracy: 0.3357\n",
            "Epoch 00004: val_accuracy did not improve from 0.22990\n",
            "1563/1563 [==============================] - 287s 184ms/step - loss: 2.9001 - accuracy: 0.3357 - val_loss: 3.7018 - val_accuracy: 0.2206\n",
            "Epoch 5/10\n",
            "1563/1563 [==============================] - ETA: 0s - loss: 2.8888 - accuracy: 0.3374\n",
            "Epoch 00005: val_accuracy did not improve from 0.22990\n",
            "1563/1563 [==============================] - 285s 182ms/step - loss: 2.8888 - accuracy: 0.3374 - val_loss: 3.6652 - val_accuracy: 0.2282\n",
            "Epoch 6/10\n",
            "1563/1563 [==============================] - ETA: 0s - loss: 2.8793 - accuracy: 0.3378\n",
            "Epoch 00006: val_accuracy did not improve from 0.22990\n",
            "1563/1563 [==============================] - 284s 182ms/step - loss: 2.8793 - accuracy: 0.3378 - val_loss: 3.6555 - val_accuracy: 0.2294\n",
            "Epoch 7/10\n",
            "1563/1563 [==============================] - ETA: 0s - loss: 2.8673 - accuracy: 0.3406\n",
            "Epoch 00007: val_accuracy did not improve from 0.22990\n",
            "1563/1563 [==============================] - 286s 183ms/step - loss: 2.8673 - accuracy: 0.3406 - val_loss: 3.6824 - val_accuracy: 0.2232\n",
            "Epoch 8/10\n",
            "1563/1563 [==============================] - ETA: 0s - loss: 2.8567 - accuracy: 0.3440\n",
            "Epoch 00008: val_accuracy did not improve from 0.22990\n",
            "1563/1563 [==============================] - 288s 184ms/step - loss: 2.8567 - accuracy: 0.3440 - val_loss: 3.6722 - val_accuracy: 0.2265\n",
            "Epoch 9/10\n",
            "1563/1563 [==============================] - ETA: 0s - loss: 2.8407 - accuracy: 0.3457\n",
            "Epoch 00009: val_accuracy did not improve from 0.22990\n",
            "1563/1563 [==============================] - 287s 183ms/step - loss: 2.8407 - accuracy: 0.3457 - val_loss: 3.6853 - val_accuracy: 0.2278\n",
            "Epoch 10/10\n",
            "1563/1563 [==============================] - ETA: 0s - loss: 2.8318 - accuracy: 0.3466\n",
            "Epoch 00010: val_accuracy did not improve from 0.22990\n",
            "1563/1563 [==============================] - 288s 184ms/step - loss: 2.8318 - accuracy: 0.3466 - val_loss: 3.6723 - val_accuracy: 0.2255\n",
            "INFO:tensorflow:Assets written to: ram://6870b2ab-c637-497d-9fab-88bab531fe87/assets\n"
          ]
        }
      ]
    },
    {
      "cell_type": "code",
      "source": [
        ""
      ],
      "metadata": {
        "id": "YgF__9SV9oKc"
      },
      "execution_count": null,
      "outputs": []
    },
    {
      "cell_type": "code",
      "source": [
        "# Training for 10 more epochs\n",
        "model.compile(loss = 'categorical_crossentropy',\n",
        "              metrics=['accuracy'],\n",
        "              optimizer= tf.keras.optimizers.Adam(learning_rate= 0.000001))\n",
        "\n",
        "\n",
        "checkpoint = ModelCheckpoint(\"/content/gdrive/MyDrive/dlproject/training1/51_60/model-{epoch:02d}-{val_accuracy:.3f}.hdf5\",\n",
        "                             monitor='val_accuracy',\n",
        "                             verbose=1,\n",
        "                             save_best_only=True,\n",
        "                             save_weights_only=False,\n",
        "                             mode='auto',\n",
        "                             period=1,\n",
        "                             )\n",
        "\n",
        "model51_60 = model.fit(train_it,batch_size=64,\n",
        "                validation_data= validation_it,\n",
        "                epochs=10,\n",
        "                verbose=1,\n",
        "                 callbacks=[checkpoint])\n",
        "\n",
        "# Open a file and use dump()\n",
        "with open('/content/gdrive/MyDrive/dlproject/training1/51_60/model51_60.pkl', 'wb') as file:\n",
        "      \n",
        "    # A new file will be created\n",
        "    pickle.dump(model51_60, file)"
      ],
      "metadata": {
        "colab": {
          "base_uri": "https://localhost:8080/"
        },
        "id": "aDbFiCD-9xU_",
        "outputId": "c117bcb1-d2a8-4bb0-adcd-45b72b5cde56"
      },
      "execution_count": null,
      "outputs": [
        {
          "output_type": "stream",
          "name": "stdout",
          "text": [
            "WARNING:tensorflow:`period` argument is deprecated. Please use `save_freq` to specify the frequency in number of batches seen.\n",
            "Epoch 1/10\n",
            "1563/1563 [==============================] - ETA: 0s - loss: 2.8225 - accuracy: 0.3477\n",
            "Epoch 00001: val_accuracy improved from -inf to 0.22770, saving model to /content/gdrive/MyDrive/dlproject/training1/51_60/model-01-0.228.hdf5\n",
            "1563/1563 [==============================] - 292s 186ms/step - loss: 2.8225 - accuracy: 0.3477 - val_loss: 3.6985 - val_accuracy: 0.2277\n",
            "Epoch 2/10\n",
            "1563/1563 [==============================] - ETA: 0s - loss: 2.8092 - accuracy: 0.3496\n",
            "Epoch 00002: val_accuracy improved from 0.22770 to 0.22980, saving model to /content/gdrive/MyDrive/dlproject/training1/51_60/model-02-0.230.hdf5\n",
            "1563/1563 [==============================] - 292s 187ms/step - loss: 2.8092 - accuracy: 0.3496 - val_loss: 3.6836 - val_accuracy: 0.2298\n",
            "Epoch 3/10\n",
            "1563/1563 [==============================] - ETA: 0s - loss: 2.8013 - accuracy: 0.3543\n",
            "Epoch 00003: val_accuracy did not improve from 0.22980\n",
            "1563/1563 [==============================] - 290s 185ms/step - loss: 2.8013 - accuracy: 0.3543 - val_loss: 3.7089 - val_accuracy: 0.2296\n",
            "Epoch 4/10\n",
            "1563/1563 [==============================] - ETA: 0s - loss: 2.7881 - accuracy: 0.3557\n",
            "Epoch 00004: val_accuracy did not improve from 0.22980\n",
            "1563/1563 [==============================] - 292s 187ms/step - loss: 2.7881 - accuracy: 0.3557 - val_loss: 3.6835 - val_accuracy: 0.2281\n",
            "Epoch 5/10\n",
            "1563/1563 [==============================] - ETA: 0s - loss: 2.7768 - accuracy: 0.3578\n",
            "Epoch 00005: val_accuracy did not improve from 0.22980\n",
            "1563/1563 [==============================] - 294s 188ms/step - loss: 2.7768 - accuracy: 0.3578 - val_loss: 3.6904 - val_accuracy: 0.2260\n",
            "Epoch 6/10\n",
            "1563/1563 [==============================] - ETA: 0s - loss: 2.7640 - accuracy: 0.3595\n",
            "Epoch 00006: val_accuracy did not improve from 0.22980\n",
            "1563/1563 [==============================] - 290s 186ms/step - loss: 2.7640 - accuracy: 0.3595 - val_loss: 3.7187 - val_accuracy: 0.2256\n",
            "Epoch 7/10\n",
            "1563/1563 [==============================] - ETA: 0s - loss: 2.7577 - accuracy: 0.3616\n",
            "Epoch 00007: val_accuracy improved from 0.22980 to 0.23380, saving model to /content/gdrive/MyDrive/dlproject/training1/51_60/model-07-0.234.hdf5\n",
            "1563/1563 [==============================] - 290s 185ms/step - loss: 2.7577 - accuracy: 0.3616 - val_loss: 3.7038 - val_accuracy: 0.2338\n",
            "Epoch 8/10\n",
            "1563/1563 [==============================] - ETA: 0s - loss: 2.7455 - accuracy: 0.3625\n",
            "Epoch 00008: val_accuracy did not improve from 0.23380\n",
            "1563/1563 [==============================] - 290s 185ms/step - loss: 2.7455 - accuracy: 0.3625 - val_loss: 3.6974 - val_accuracy: 0.2273\n",
            "Epoch 9/10\n",
            "1563/1563 [==============================] - ETA: 0s - loss: 2.7365 - accuracy: 0.3642\n",
            "Epoch 00009: val_accuracy did not improve from 0.23380\n",
            "1563/1563 [==============================] - 287s 183ms/step - loss: 2.7365 - accuracy: 0.3642 - val_loss: 3.7097 - val_accuracy: 0.2327\n",
            "Epoch 10/10\n",
            "1563/1563 [==============================] - ETA: 0s - loss: 2.7232 - accuracy: 0.3672\n",
            "Epoch 00010: val_accuracy did not improve from 0.23380\n",
            "1563/1563 [==============================] - 287s 183ms/step - loss: 2.7232 - accuracy: 0.3672 - val_loss: 3.7054 - val_accuracy: 0.2293\n",
            "INFO:tensorflow:Assets written to: ram://5d47e716-8c14-4b43-bf74-d946a80ec55b/assets\n"
          ]
        }
      ]
    },
    {
      "cell_type": "code",
      "source": [
        ""
      ],
      "metadata": {
        "id": "4fZIX9ybaVhN"
      },
      "execution_count": null,
      "outputs": []
    },
    {
      "cell_type": "code",
      "source": [
        "# Training for 10 more epochs\n",
        "model.compile(loss = 'categorical_crossentropy',\n",
        "              metrics=['accuracy'],\n",
        "              optimizer= tf.keras.optimizers.Adam(learning_rate= 0.000001))\n",
        "\n",
        "\n",
        "checkpoint = ModelCheckpoint(\"/content/gdrive/MyDrive/dlproject/training1/61_70/model-{epoch:02d}-{val_accuracy:.3f}.hdf5\",\n",
        "                             monitor='val_accuracy',\n",
        "                             verbose=1,\n",
        "                             save_best_only=True,\n",
        "                             save_weights_only=False,\n",
        "                             mode='auto',\n",
        "                             period=1,\n",
        "                             )\n",
        "\n",
        "model61_70 = model.fit(train_it,batch_size=64,\n",
        "                validation_data= validation_it,\n",
        "                epochs=10,\n",
        "                verbose=1,\n",
        "                 callbacks=[checkpoint])\n",
        "\n",
        "# Open a file and use dump()\n",
        "with open('/content/gdrive/MyDrive/dlproject/training1/61_70/model61_70.pkl', 'wb') as file:\n",
        "      \n",
        "    # A new file will be created\n",
        "    pickle.dump(model61_70, file)"
      ],
      "metadata": {
        "colab": {
          "base_uri": "https://localhost:8080/"
        },
        "id": "KMq-YBKsaV3N",
        "outputId": "809b2805-e978-4590-f42a-f9a327df2d87"
      },
      "execution_count": null,
      "outputs": [
        {
          "output_type": "stream",
          "name": "stdout",
          "text": [
            "WARNING:tensorflow:`period` argument is deprecated. Please use `save_freq` to specify the frequency in number of batches seen.\n",
            "Epoch 1/10\n",
            "1563/1563 [==============================] - ETA: 0s - loss: 2.7123 - accuracy: 0.3671\n",
            "Epoch 00001: val_accuracy improved from -inf to 0.22500, saving model to /content/gdrive/MyDrive/dlproject/training1/61_70/model-01-0.225.hdf5\n",
            "1563/1563 [==============================] - 294s 187ms/step - loss: 2.7123 - accuracy: 0.3671 - val_loss: 3.7040 - val_accuracy: 0.2250\n",
            "Epoch 2/10\n",
            "1563/1563 [==============================] - ETA: 0s - loss: 2.7021 - accuracy: 0.3697\n",
            "Epoch 00002: val_accuracy improved from 0.22500 to 0.22750, saving model to /content/gdrive/MyDrive/dlproject/training1/61_70/model-02-0.228.hdf5\n",
            "1563/1563 [==============================] - 294s 188ms/step - loss: 2.7021 - accuracy: 0.3697 - val_loss: 3.7016 - val_accuracy: 0.2275\n",
            "Epoch 3/10\n",
            "1563/1563 [==============================] - ETA: 0s - loss: 2.6884 - accuracy: 0.3733\n",
            "Epoch 00003: val_accuracy improved from 0.22750 to 0.23060, saving model to /content/gdrive/MyDrive/dlproject/training1/61_70/model-03-0.231.hdf5\n",
            "1563/1563 [==============================] - 294s 188ms/step - loss: 2.6884 - accuracy: 0.3733 - val_loss: 3.7240 - val_accuracy: 0.2306\n",
            "Epoch 4/10\n",
            "1563/1563 [==============================] - ETA: 0s - loss: 2.6850 - accuracy: 0.3747\n",
            "Epoch 00004: val_accuracy did not improve from 0.23060\n",
            "1563/1563 [==============================] - 290s 185ms/step - loss: 2.6850 - accuracy: 0.3747 - val_loss: 3.7248 - val_accuracy: 0.2262\n",
            "Epoch 5/10\n",
            "1563/1563 [==============================] - ETA: 0s - loss: 2.6684 - accuracy: 0.3762\n",
            "Epoch 00005: val_accuracy did not improve from 0.23060\n",
            "1563/1563 [==============================] - 288s 184ms/step - loss: 2.6684 - accuracy: 0.3762 - val_loss: 3.7102 - val_accuracy: 0.2290\n",
            "Epoch 6/10\n",
            "1563/1563 [==============================] - ETA: 0s - loss: 2.6626 - accuracy: 0.3776\n",
            "Epoch 00006: val_accuracy improved from 0.23060 to 0.23510, saving model to /content/gdrive/MyDrive/dlproject/training1/61_70/model-06-0.235.hdf5\n",
            "1563/1563 [==============================] - 292s 186ms/step - loss: 2.6626 - accuracy: 0.3776 - val_loss: 3.7108 - val_accuracy: 0.2351\n",
            "Epoch 7/10\n",
            "1563/1563 [==============================] - ETA: 0s - loss: 2.6456 - accuracy: 0.3794\n",
            "Epoch 00007: val_accuracy did not improve from 0.23510\n",
            "1563/1563 [==============================] - 289s 185ms/step - loss: 2.6456 - accuracy: 0.3794 - val_loss: 3.7294 - val_accuracy: 0.2315\n",
            "Epoch 8/10\n",
            "1563/1563 [==============================] - ETA: 0s - loss: 2.6384 - accuracy: 0.3818\n",
            "Epoch 00008: val_accuracy did not improve from 0.23510\n",
            "1563/1563 [==============================] - 286s 183ms/step - loss: 2.6384 - accuracy: 0.3818 - val_loss: 3.7376 - val_accuracy: 0.2283\n",
            "Epoch 9/10\n",
            "1563/1563 [==============================] - ETA: 0s - loss: 2.6253 - accuracy: 0.3840\n",
            "Epoch 00009: val_accuracy did not improve from 0.23510\n",
            "1563/1563 [==============================] - 287s 184ms/step - loss: 2.6253 - accuracy: 0.3840 - val_loss: 3.7529 - val_accuracy: 0.2294\n",
            "Epoch 10/10\n",
            "1563/1563 [==============================] - ETA: 0s - loss: 2.6196 - accuracy: 0.3861\n",
            "Epoch 00010: val_accuracy did not improve from 0.23510\n",
            "1563/1563 [==============================] - 286s 183ms/step - loss: 2.6196 - accuracy: 0.3861 - val_loss: 3.7362 - val_accuracy: 0.2339\n",
            "INFO:tensorflow:Assets written to: ram://8d3f5ed6-c43c-4381-b2da-e8048d1e9aa0/assets\n"
          ]
        }
      ]
    },
    {
      "cell_type": "code",
      "source": [
        ""
      ],
      "metadata": {
        "id": "6YDCRS9vnDB3"
      },
      "execution_count": null,
      "outputs": []
    },
    {
      "cell_type": "code",
      "source": [
        "# Training for 10 more epochs\n",
        "model.compile(loss = 'categorical_crossentropy',\n",
        "              metrics=['accuracy'],\n",
        "              optimizer= tf.keras.optimizers.Adam(learning_rate= 0.000001))\n",
        "\n",
        "\n",
        "checkpoint = ModelCheckpoint(\"/content/gdrive/MyDrive/dlproject/training1/71_80/model-{epoch:02d}-{val_accuracy:.3f}.hdf5\",\n",
        "                             monitor='val_accuracy',\n",
        "                             verbose=1,\n",
        "                             save_best_only=True,\n",
        "                             save_weights_only=False,\n",
        "                             mode='auto',\n",
        "                             period=1,\n",
        "                             )\n",
        "\n",
        "model71_80 = model.fit(train_it,batch_size=64,\n",
        "                validation_data= validation_it,\n",
        "                epochs=10,\n",
        "                verbose=1,\n",
        "                 callbacks=[checkpoint])\n",
        "\n",
        "# Open a file and use dump()\n",
        "with open('/content/gdrive/MyDrive/dlproject/training1/71_80/model71_80.pkl', 'wb') as file:\n",
        "      \n",
        "    # A new file will be created\n",
        "    pickle.dump(model71_80, file)"
      ],
      "metadata": {
        "colab": {
          "base_uri": "https://localhost:8080/"
        },
        "id": "CdpOtewWnCo-",
        "outputId": "ba98d8e9-6282-41ac-a17b-17b475774051"
      },
      "execution_count": null,
      "outputs": [
        {
          "output_type": "stream",
          "name": "stdout",
          "text": [
            "WARNING:tensorflow:`period` argument is deprecated. Please use `save_freq` to specify the frequency in number of batches seen.\n",
            "Epoch 1/10\n",
            "1502/1563 [===========================>..] - ETA: 10s - loss: 2.6093 - accuracy: 0.3877"
          ]
        }
      ]
    },
    {
      "cell_type": "markdown",
      "source": [
        "### Results after training the model for 70 epochs "
      ],
      "metadata": {
        "id": "TtbkAxGepxh6"
      }
    },
    {
      "cell_type": "code",
      "source": [
        "# Importing model history from google drive\n",
        "import pickle\n",
        "\n",
        "with open(\"/content/gdrive/MyDrive/dlproject/learningrate/history00001.pkl\",'rb') as file:\n",
        "  epoch0_10 = pickle.load(file)\n",
        "\n",
        "with open(\"/content/gdrive/MyDrive/dlproject/training1/11_20/model11_20.pkl\",'rb') as file:\n",
        "  epoch11_20 = pickle.load(file)\n",
        "\n",
        "with open(\"/content/gdrive/MyDrive/dlproject/training1/21_30/model21_30.pkl\",'rb') as file:\n",
        "  epoch21_30 = pickle.load(file)\n",
        "\n",
        "with open(\"/content/gdrive/MyDrive/dlproject/training1/31_40/model31_40.pkl\",'rb') as file:\n",
        "  epoch31_40 = pickle.load(file)\n",
        "\n",
        "with open(\"/content/gdrive/MyDrive/dlproject/training1/41_50/model41_50.pkl\",'rb') as file:\n",
        "  epoch41_50 = pickle.load(file)\n",
        "\n",
        "with open(\"/content/gdrive/MyDrive/dlproject/training1/51_60/model51_60.pkl\",'rb') as file:\n",
        "  epoch51_60 = pickle.load(file)\n",
        "\n",
        "with open(\"/content/gdrive/MyDrive/dlproject/training1/61_70/model61_70.pkl\",'rb') as file:\n",
        "  epoch61_70 = pickle.load(file)"
      ],
      "metadata": {
        "id": "AHaY53gDpwM1"
      },
      "execution_count": null,
      "outputs": []
    },
    {
      "cell_type": "code",
      "source": [
        "val_loss0_10 = epoch0_10.history['val_loss']\n",
        "val_loss11_20 = epoch11_20.history['val_loss']\n",
        "val_loss21_30 = epoch21_30.history['val_loss']\n",
        "val_loss31_40 = epoch31_40.history['val_loss']\n",
        "val_loss41_50 = epoch41_50.history['val_loss']\n",
        "val_loss51_60 = epoch51_60.history['val_loss']\n",
        "val_loss61_70 = epoch61_70.history['val_loss']\n",
        "# val_loss21_30 = epoch21_30.history['val_loss']/\n",
        "\n",
        "merged_val_loss = val_loss0_10 + val_loss11_20 + val_loss21_30 + val_loss31_40 + val_loss41_50 + val_loss51_60 + val_loss61_70\n",
        "\n",
        "val_accuracy0_10 = epoch0_10.history['val_accuracy']\n",
        "val_accuracy11_20 = epoch11_20.history['val_accuracy']\n",
        "val_accuracy21_30 = epoch21_30.history['val_accuracy']\n",
        "val_accuracy31_40 = epoch31_40.history['val_accuracy']\n",
        "val_accuracy41_50 = epoch41_50.history['val_accuracy']\n",
        "val_accuracy51_60 = epoch51_60.history['val_accuracy']\n",
        "val_accuracy61_70 = epoch61_70.history['val_accuracy']\n",
        "# val_accuracy21_30 = epoch21_30.history['val_accuracy']/\n",
        "\n",
        "merged_val_accuracy = val_accuracy0_10 + val_accuracy11_20 + val_accuracy21_30 + val_accuracy31_40 + val_accuracy41_50 + val_accuracy51_60 + val_accuracy61_70"
      ],
      "metadata": {
        "id": "bLpmDAKwqzvP"
      },
      "execution_count": null,
      "outputs": []
    },
    {
      "cell_type": "code",
      "source": [
        "train_loss0_10 = epoch0_10.history['loss']\n",
        "train_loss11_20 = epoch11_20.history['loss']\n",
        "train_loss21_30 = epoch21_30.history['loss']\n",
        "train_loss31_40 = epoch31_40.history['loss']\n",
        "train_loss41_50 = epoch41_50.history['loss']\n",
        "train_loss51_60 = epoch51_60.history['loss']\n",
        "train_loss61_70 = epoch61_70.history['loss']\n",
        "# train_loss21_30 = epoch21_30.history['loss']\n",
        "\n",
        "merged_train_loss = train_loss0_10 + train_loss11_20 + train_loss21_30 + train_loss31_40 + train_loss41_50 + train_loss51_60 + train_loss61_70\n",
        "\n",
        "train_accuracy0_10 = epoch0_10.history['accuracy']\n",
        "train_accuracy11_20 = epoch11_20.history['accuracy']\n",
        "train_accuracy21_30 = epoch21_30.history['accuracy']\n",
        "train_accuracy31_40 = epoch31_40.history['accuracy']\n",
        "train_accuracy41_50 = epoch41_50.history['accuracy']\n",
        "train_accuracy51_60 = epoch51_60.history['accuracy']\n",
        "train_accuracy61_70 = epoch61_70.history['accuracy']\n",
        "# train_accuracy21_30 = epoch21_30.history['accuracy']\n",
        "\n",
        "merged_train_accuracy = train_accuracy0_10 + train_accuracy11_20 + train_accuracy21_30 + train_accuracy31_40 + train_accuracy41_50 + train_accuracy51_60 + train_accuracy61_70"
      ],
      "metadata": {
        "id": "ZGmMEw5Ur_4u"
      },
      "execution_count": null,
      "outputs": []
    },
    {
      "cell_type": "code",
      "source": [
        "import seaborn as sns\n",
        "import pandas as pd\n",
        "data = pd.DataFrame({'Training loss' : merged_train_loss, 'Validation loss': merged_val_loss}, index = range(0,70,1))\n",
        "# data\n",
        "sns.set(rc={'figure.figsize':(11.7,8.27)})\n",
        "sns.lineplot(data = data, palette='tab10',linewidth=2.5).set(xlabel = 'Epochs', ylabel = 'Loss',title = \" Training loss VS Validation loss\" )"
      ],
      "metadata": {
        "colab": {
          "base_uri": "https://localhost:8080/",
          "height": 588
        },
        "id": "0dqtsWLwrtm5",
        "outputId": "ea93f808-2829-4c3a-f328-a9619491c001"
      },
      "execution_count": null,
      "outputs": [
        {
          "output_type": "execute_result",
          "data": {
            "text/plain": [
              "[Text(0, 0.5, 'Loss'),\n",
              " Text(0.5, 0, 'Epochs'),\n",
              " Text(0.5, 1.0, ' Training loss VS Validation loss')]"
            ]
          },
          "metadata": {},
          "execution_count": 15
        },
        {
          "output_type": "display_data",
          "data": {
            "image/png": "[encoded data removed]",
            "text/plain": [
              "<Figure size 842.4x595.44 with 1 Axes>"
            ]
          },
          "metadata": {}
        }
      ]
    },
    {
      "cell_type": "code",
      "source": [
        "import seaborn as sns\n",
        "import pandas as pd\n",
        "data = pd.DataFrame({'Training accuracy' : merged_train_accuracy, 'Validation accuracy': merged_val_accuracy}, index = range(0,70,1))\n",
        "# data\n",
        "sns.set(rc={'figure.figsize':(11.7,8.27)})\n",
        "sns.lineplot(data = data, palette='tab10',linewidth=2.5).set(xlabel = 'Epochs', ylabel = 'Accuracy',title = \" Training accuracy VS Validation accuracy\" )"
      ],
      "metadata": {
        "colab": {
          "base_uri": "https://localhost:8080/",
          "height": 588
        },
        "id": "WAF8QSggr34J",
        "outputId": "3a35c230-58dc-46c5-e181-58cd81ee9ad9"
      },
      "execution_count": null,
      "outputs": [
        {
          "output_type": "execute_result",
          "data": {
            "text/plain": [
              "[Text(0, 0.5, 'Accuracy'),\n",
              " Text(0.5, 0, 'Epochs'),\n",
              " Text(0.5, 1.0, ' Training accuracy VS Validation accuracy')]"
            ]
          },
          "metadata": {},
          "execution_count": 16
        },
        {
          "output_type": "display_data",
          "data": {
            "image/png": "[encoded data removed]",
            "text/plain": [
              "<Figure size 842.4x595.44 with 1 Axes>"
            ]
          },
          "metadata": {}
        }
      ]
    },
    {
      "cell_type": "markdown",
      "source": [
        "### Predicting the test images "
      ],
      "metadata": {
        "id": "_Pns-hnk9_Tb"
      }
    },
    {
      "cell_type": "code",
      "source": [
        "from google.colab import drive\n",
        "drive._mount(\"/content/gdrive\")"
      ],
      "metadata": {
        "colab": {
          "base_uri": "https://localhost:8080/"
        },
        "id": "n1XaFv-lXLs5",
        "outputId": "56eb68f5-7d94-467f-c59b-aabef5267c43"
      },
      "execution_count": null,
      "outputs": [
        {
          "output_type": "stream",
          "name": "stdout",
          "text": [
            "Drive already mounted at /content/gdrive; to attempt to forcibly remount, call drive.mount(\"/content/gdrive\", force_remount=True).\n"
          ]
        }
      ]
    },
    {
      "cell_type": "code",
      "source": [
        "# importing trained model\n",
        "\n",
        "from tensorflow.keras.models import load_model\n",
        "model = load_model(\"/content/gdrive/MyDrive/dlproject/training1/61_70/model-06-0.235.hdf5\")"
      ],
      "metadata": {
        "id": "gJMVlgZh9-al"
      },
      "execution_count": null,
      "outputs": []
    },
    {
      "cell_type": "code",
      "source": [
        "# Method for predicting the image and returns the class name\n",
        "\n",
        "def predict(path):\n",
        "  path = \"/content/tiny-imagenet-200/test/images/\" + path\n",
        "  # print(path)\n",
        "  img = cv2.imread(path , -1)\n",
        "  img = cv2.resize(img,(64,64))\n",
        "  img = np.reshape(img,[1,64,64,3])\n",
        "  softmax_output = model.predict(img)\n",
        "  output = softmax_output.argmax(axis= -1)\n",
        "  return labels[int(output)]"
      ],
      "metadata": {
        "id": "UwxBjbmybNHG"
      },
      "execution_count": null,
      "outputs": []
    },
    {
      "cell_type": "code",
      "source": [
        "images_list = sorted(os.listdir(\"/content/tiny-imagenet-200/test/images\"))\n",
        "# print(sorted(images_list))"
      ],
      "metadata": {
        "id": "WAGWODeh_ovF"
      },
      "execution_count": null,
      "outputs": []
    },
    {
      "cell_type": "code",
      "source": [
        "output_csv = dict()\n",
        "error = []\n",
        "for path in images_list:\n",
        "  image_name = path[:-5]\n",
        "  try:\n",
        "    output_csv[image_name] = predict(path)\n",
        "  except:\n",
        "    output_csv[image_name] = \"-\"\n",
        "    error.append(image_name)"
      ],
      "metadata": {
        "id": "zSFr3QMBFnCY"
      },
      "execution_count": null,
      "outputs": []
    },
    {
      "cell_type": "code",
      "source": [
        "len(error)"
      ],
      "metadata": {
        "id": "aHkKHJ80iqET",
        "colab": {
          "base_uri": "https://localhost:8080/"
        },
        "outputId": "c6bab539-0c96-4521-baf4-11a38287e9b8"
      },
      "execution_count": null,
      "outputs": [
        {
          "output_type": "execute_result",
          "data": {
            "text/plain": [
              "189"
            ]
          },
          "metadata": {},
          "execution_count": 22
        }
      ]
    },
    {
      "cell_type": "markdown",
      "source": [
        "##### There are 189 black and white images which are not taken for predicting the output class label"
      ],
      "metadata": {
        "id": "kT6MlV1edqxu"
      }
    },
    {
      "cell_type": "markdown",
      "source": [
        "#### Exporting the test image name and corresponding predicted label into output.csv file"
      ],
      "metadata": {
        "id": "KORP6d3fd8kO"
      }
    },
    {
      "cell_type": "code",
      "source": [
        "import csv\n",
        "file = open(\"output.csv\", \"w\")\n",
        "\n",
        "writer = csv.writer(file)\n",
        "for key, value in output_csv.items():\n",
        "    writer.writerow([key, value])\n",
        "\n",
        "file.close()"
      ],
      "metadata": {
        "id": "K7fRNIHvJZcG"
      },
      "execution_count": null,
      "outputs": []
    },
    {
      "cell_type": "code",
      "source": [
        ""
      ],
      "metadata": {
        "id": "L6E2NCPchBEV"
      },
      "execution_count": null,
      "outputs": []
    }
  ]
}
